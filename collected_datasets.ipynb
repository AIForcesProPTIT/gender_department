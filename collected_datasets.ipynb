{
 "cells": [
  {
   "cell_type": "code",
   "execution_count": 1,
   "id": "96b5ce8e",
   "metadata": {},
   "outputs": [],
   "source": [
    "import numpy as np\n",
    "import pandas  as pd\n",
    "import torch\n",
    "\n",
    "from underthesea import word_tokenize\n",
    "\n",
    "# import libraries\n",
    "import seaborn as sns\n",
    "import numpy as np\n",
    "import matplotlib.pyplot as plt\n",
    "import matplotlib.patches as mpatches\n",
    "\n",
    "# # load dataset\n",
    "# tips = sns.load_dataset(\"tips\")\n",
    "\n",
    "# # set plot style: grey grid in the background:\n",
    "# sns.set(style=\"darkgrid\")\n",
    "\n",
    "# # set the figure size\n",
    "# plt.figure(figsize=(14, 14))\n",
    "\n",
    "# # top bar -> sum all values(smoker=No and smoker=Yes) to find y position of the bars\n",
    "# total = tips.groupby('day')['total_bill'].sum().reset_index()\n",
    "\n",
    "# # bar chart 1 -> top bars (group of 'smoker=No')\n",
    "# bar1 = sns.barplot(x=\"day\",  y=\"total_bill\", data=total, color='darkblue')\n",
    "\n",
    "# # bottom bar ->  take only smoker=Yes values from the data\n",
    "# smoker = tips[tips.smoker=='Yes']\n",
    "\n",
    "# # bar chart 2 -> bottom bars (group of 'smoker=Yes')\n",
    "# bar2 = sns.barplot(x=\"day\", y=\"total_bill\", data=smoker, estimator=sum, ci=None,  color='lightblue')\n",
    "\n",
    "# # add legend\n",
    "# top_bar = mpatches.Patch(color='darkblue', label='smoker = No')\n",
    "# bottom_bar = mpatches.Patch(color='lightblue', label='smoker = Yes')\n",
    "# plt.legend(handles=[top_bar, bottom_bar])\n",
    "\n",
    "# # show the graph\n",
    "# plt.show()"
   ]
  },
  {
   "cell_type": "code",
   "execution_count": 2,
   "id": "aa5832f8",
   "metadata": {},
   "outputs": [],
   "source": [
    "sen_ = {\n",
    "    \"sentence\": [\"$subject $command $appt $dr $person_name lúc $time ngày $date\",\n",
    "                \"$subject $command $appt $dr $person_name vào $date lúc $time\",  \n",
    "                \"$subject $command $appt $dr $person_name vào $date $time\",\n",
    "                \"$command $appt với $person_name vào $date\",\n",
    "                \"$command $appt với $person_name\",\n",
    "                \"$greet $subject $command $appt\",\n",
    "                \"$subject $command_v2 cho $person_name với $person_name\",\n",
    "                \"$greet $subject $command_v2 $appt vào $time $date\",\n",
    "                \"$time $date $subject $command với $person_name\",\n",
    "                \"$subject có một vài triệu chứng $symptom , tôi $command với $hospital_name\",\n",
    "                \"$subject có $appt với $person_name\",\n",
    "                \"vào $date có $appt với $hospital_name\",\n",
    "                \"vào $time có $appt với $person_name\",\n",
    "                \"$command_v2 với $person_name ở $hospital_name\",\n",
    "                \"$greet $subject có $appt với $person_name , hiện tại có $symptom\",\n",
    "                \"$command $appt với $dr $person_name vào $time ạ\",\n",
    "                \"$command_v2 $appt như thế nào\",\n",
    "                \"$command_v2 $appt thì như nào\",\n",
    "                \"$command $appt với $person_name thì như nào\",\n",
    "                \"$subject $command_v2 $appt tại $hospital_name vào $date thì làm sao\",\n",
    "                \"$command $appt với $person_name ở $department tại $hospital_name\",\n",
    "                \"$person_name là tên $subject $command $appt nay $symptom\",\n",
    "                \"$person_name là tên của bạn $subject $command_v2 với $person_name ở $department\",\n",
    "                \"tên của tui là $person_name nay tui $command $appt\",\n",
    "                \"tôi biết $person_name khá giỏi, tôi có $symptom , tôi $command $appt\",\n",
    "                \"$command với $person_name $time $date\",\n",
    "                \"$command với $person_name $date $time\",\n",
    "                \"$greet $command $person_name $time $date\",\n",
    "                \"$command $person_name $date ở $department cảm ơn\",\n",
    "                \"tôi tên $person_name giờ tôi $command $appt\",\n",
    "                \"$hospital_name có $dr $person_name , tôi $command\",\n",
    "                \"vài ngày qua tôi $symptom , tôi $command với $person_name\",\n",
    "                \"tôi có dấu hiệu $symptom tôi $command $appt vào $date\",\n",
    "                \"tôi thấy ở $hospital_name có điều trị $symptom tôi $command $appt\",\n",
    "                \"phải làm gì để nếu $subject $command $appt\",\n",
    "                \"$dr $person_name có $appt với tôi vào $date\",\n",
    "                \"tôi có $appt với $dr $person_name vào $time $date\",\n",
    "                \"tôi là $person_name và chị tôi là $person_name tôi $command $appt với $person_name\",\n",
    "                \"tên : $person_name $command_v2 cho bạn $person_name với $person_name\",\n",
    "                \"vào $time tôi có thể đặt $appt ở $department được không?\",\n",
    "                \"hospital_name có làm việc lúc $time không? tôi $command $appt, tên của tôi $person_name\",\n",
    "                \"$greet tôi được biết ở $hospital_name chuyên về $department, tôi $command $appt\",\n",
    "                \"$greet tôi $command_v2 $appt được không\",\n",
    "                \"$greet em trai $subject $command $appt với $person_name\",\n",
    "                \"$greet bạn $subject $command $appt phải làm sao\",\n",
    "                \"$date bạn của $subject tên $person_name $command $appt phải làm sao\",\n",
    "                \"làm ơn cho $subject đặt $appt với ông $person_name $dr\",\n",
    "                \"vui lòng cho $subject lúc nào thì thuận tiện gặp $dr $person_name\",\n",
    "                \"$dr $person_name có thể sắp xếp một $appt với $subject được không\",\n",
    "                \"$dr $person_name có thể sắp xếp một $appt với bạn tôi $subject được không\",\n",
    "                \"$subject nghĩ nên sắp xếp $appt với $dr $person_name\",\n",
    "                \"$subject của tôi đang $symptom muốn kiểm tra tại viện của $person_name\",\n",
    "                \"$subject em $person_name muốn kiểm tra thai nhi tại viện mình\",\n",
    "                \"$greet $hospital_name tại $department có cho phép $command riêng với $person_name không?\",\n",
    "                \"tôi là người nhà của $person_name $command $appt cho vợ tôi\",\n",
    "                \"lịch kiểm tra y tế là $date $subject đã đến\",\n",
    "                \"thông tin người gặp là bs $person_name $subject $command $appt\",\n",
    "                \"$subject cần gặp $person_name ngay bây giờ\",\n",
    "                \"tôi có tìm hiểu qua mạng thấy $hospital_name có $person_name khá giỏi nên $command với họ\",\n",
    "                \"bs ở $department có rãnh không ạ, $subject $command $appt\",\n",
    "                \"xin tự giới thiệu $subject $person_name ID $id_number $command $appt\",\n",
    "                \"cháu $subject có $symptom nên vui lòng đặt $appt giúp\",\n",
    "                \"với triệu chứng như này: $symptom có thể đặt $appt được chưa\",\n",
    "                \"xin phép $command $appt nhé\",\n",
    "                \"kiểm tra giúp tôi thông tin $appt với $person_name\",\n",
    "                \"$command_v2 $subject cho $person_name vs $dr $person_name lúc $time vào $date\",\n",
    "                \"tôi $command $appt để điều trị $symptom cho $person_name\",\n",
    "                \"alo $greet $command $greet $department nha\",\n",
    "                \"$person_name là $subject của tôi, $command cho nó\",\n",
    "                \"tên $person_name $command $appt $dr\",\n",
    "                \"$id_number là id của tôi, $date có đặt $appt với ông $person_name\",\n",
    "                \"$subject sinh vào $date $command $appt\",\n",
    "                \"$subject là anh trai của $person_name $command_v2 $appt\",\n",
    "                \"$subject xin tự giới thiệu $person_name là $subject lúc $time có đặt $appt\",\n",
    "                \"$command $appt cần thông tin gì ngoài $person_name của $subject\",\n",
    "                \"$date là buổi kiểm tra / khám tổng quát của cả đội $subject xin phép đặt thêm cho $person_name với $dr $person_name\",\n",
    "                \"$date là buổi kiểm tra y tế đặt thêm lịch cho nhân viên thì như nào v $hospital_name\",\n",
    "                \"hình như vào lúc $time có buổi khám tổng quát , nhưng tôi miss rồi nên $command $appt lại với $dr\",\n",
    "                \"ngay lúc này $subject $command $appt\",\n",
    "                \"$subject bị tai nạn giao thông $date, $command $appt thì như nào với $person_name\",\n",
    "                \"không hiểu lý do gì $subject có vài triệu chứng đơn giản như $symptom nên $command $appt với $dr\",\n",
    "                \"$greet nhờ $command_v2 $appt coi\",\n",
    "                \"$command_v2 $appt coi nào\",\n",
    "                \"thử thách $command_v2 $appt với ông $dr $person_name nhé\",\n",
    "                \"đừng đặt $dr $person_name mà hãy $command_v2 $person_name này\",\n",
    "                \"$command $appt về $symptom thì ntn\",\n",
    "                \"$command $appt ở $department lúc $time\",\n",
    "                \"$command $appt ở $hospital_name vào $date\",\n",
    "                \"$subject $command $appt giúp bạn, họ không có kinh nghiệm trong chuyện này\",\n",
    "                \"$subject sắp xếp $appt với trưởng khoa $department $date\",\n",
    "                \"$subject hy vọng đặt được $appt với $dr $date\",\n",
    "                \"$subject có thể đặt $appt qua email, website, hotline của $hospital_name được không\",\n",
    "                \"$subject có thể đặt $appt qua email, website, hotline, ... của $hospital_name được không\",\n",
    "                \"$subject có thể đặt qua email của $hospital_name được không\",\n",
    "                \"$subject có thể đặt website hay hotline của $hospital_name được hông\",\n",
    "                \"làm cách nào để hẹn trực tuyến với $dr $person_name\",\n",
    "                \"quy trình đặt/hẹn $appt như thế nào\",\n",
    "                \"quy trình đặt $appt ntn\",\n",
    "                \"Quy trình đặt $appt như nào\",\n",
    "                \"để $command $appt, đầu tiên $subject phải làm gì\",\n",
    "                \"để đặt $appt , những điều cần làm là gì nhỉ\",\n",
    "                \"để đặt $appt với $dr, $subject cần làm gì\",\n",
    "                \"$date $dr còn trống $appt không. $subject $command $appt với ông ấy lúc $time\",\n",
    "                \"Mặc dù sức khỏe triến biến tích cực nhưng $subject vẫn $command $appt vào lần sau\",\n",
    "                \"Mặc dù sức khỏe triến biến tích cực nhưng $subject vẫn $command $appt vào buổi tiếp theo\",\n",
    "                \"$subject cần phải đặt $appt với $person_name vào $date, vì cảm thấy sức khỏe không ổn\",\n",
    "                \"$subject cần phải đặt $appt với $person_name vào $date, vì cảm thấy sức khỏe không ổn\",\n",
    "                \"$subject cần phải đặt $appt với $person_name vào $date, vì cảm thấy sức khỏe không ổn\",\n",
    "                \"để kiểm tra sức khỏe định kỳ, $subject $command $appt vào hàng tháng\",\n",
    "                \"để kiểm tra sức khỏe định kỳ, $subject $command $appt vào mỗi tháng\",\n",
    "                \"$subject $command hàng tháng với $dr $person_name\",\n",
    "                \"$subject có thể đặt $appt với $person_name nữa không, thấy bác ấy khá giỏi\",\n",
    "                \"$subject $command $appt với tần suất 2 lần một tuần để theo dõi sức khỏe tốt hơn . tên $person_name\",\n",
    "                \"$subject $command $appt với 1 tuần 3 lần để kiểm tra sức khỏe tốt hơn\",\n",
    "                \"$subject $command $appt với 1 tháng 1 lần để kt sức khỏe tổng quát cho an toàn\"\n",
    "    ],\n",
    "    \"subject\": [\"chị\",'anh', \"bác\", \"cô\", \"chú\", \"ông\", \"vợ\", \"mẹ\",\"chồng\",'bà', 'chị dâu','anh rể','bố','mẹ','ba','má'],\n",
    "    \"command\": [\"muốn đặt\", \"đặt\", \"muốn hẹn\", \"hẹn\", \"book\", \"cần đặt\", \"cần book\"],\n",
    "    \"appt\": [\"buổi hẹn\", \"buổi khám\", \"khám\", \"tái khám\", \"khám lại\", \"buổi gặp\", \"lịch hẹn\"],\n",
    "    \"dr\": [\"bác sĩ\",\"bs\", \"bác sỹ\",\"dr\",\"doctor\", \"bác\", \"bác trưởng khoa\", \"bác sỹ trưởng khoa\"],\n",
    "    \"greet\": [\"xin chào\", \"hello\", \"hi bot\", \"bot ơi\", \"bác ơi\", \"chào\", \"bot\"],\n",
    "    \"command_v2\": [\"đặt dùm\", \"book dùm\", \"hẹn dùm\", \"book lịch dùm\", \"đặt lịch khám dùm\", \"đặt cho\"],\n",
    "    \"symptom\": [\"mang thai\", \"thai ngén, mệt mỏi, tức ngực, hụt hơi\", \"da vàng\", \"nhức đầu\", \"chóng mặt\", \"đau hai bên má\", \"sưng bụng\", \"táo bón, hay tiêu chảy\", \"phân hẹp, hay tiêu chảy\", \"đau đầu thường xuyên\", \"gãy chân\", \"có vấn đề về tim và tim đập nhanh\", \"đi không vững\", \"hay ho\", \"ho khan\", \"ho dai dảng\", \"ho có đờm\"],\n",
    "    \"hospital_name\": [\"bệnh viện\", \"bv VinMec\", \"bệnh viện 108\", \"bệnh viện trung ươn VinMec\"],\n",
    "    \"department\": ['khoa nội','khoa ngoại','phụ sản','khoa phụ sản',\n",
    "                    'khoa nhi','khoa truyền nhiễm','khoa cấp cứu','khoa Hồi sức tích cực và chống độc',\n",
    "                    'khoa Y học cổ truyền','khoa vật lý trị liệu - phục hồi chức năng','phòng vật lý trị liệu - phục hồi chức năng'\n",
    "                    'khoa ung bướu','khoa y học hạt nhân',\n",
    "                    'khoa Phẫu thuật - gây mê hồi sức',\n",
    "                    'khoa chẩn đoán hình ảnh',\n",
    "                    'khoa xét nghiệm','khoa Giải phẫu bệnh','khoa lọc máu'],\n",
    "    \"id_number\": [\"+123za1\", \"12509482\", \"30-124\", \"4012575-1123\", \"2021148-1241\"],\n",
    "    'person_name':[\"Nguyễn Ngọc Minh\",'Anh Khoa'],\n",
    "    'date':['30-4-2021'],\n",
    "    'time':['17h chiều'],\n",
    "    'appt':['Đặt lịch','hẹn lịch']\n",
    "}\n"
   ]
  },
  {
   "cell_type": "code",
   "execution_count": 3,
   "id": "d8a4758b",
   "metadata": {},
   "outputs": [],
   "source": [
    "text_global = []\n",
    "entities_global=[]\n",
    "def _queue(list_text,list_word, list_entities, index):\n",
    "    if index == len(list_word):\n",
    "        text_global.append(list_text)\n",
    "        entities_global.append(list_entities)\n",
    "        return \n",
    "    words = list_word[index].strip()\n",
    "    if '$' not in words:\n",
    "        list_text_current  = list_text + [words,]\n",
    "        list_entities_current = list_entities + ['O',]\n",
    "        return _queue(list_text_current, list_word, list_entities_current, index+1)\n",
    "    entities ='O'\n",
    "    if '$subject' in words:\n",
    "        entities = 'GENDER'\n",
    "    elif '$department' in words:\n",
    "        entities = 'LOC'\n",
    "    else:\n",
    "        entities ='O'\n",
    "    re_p = sen_[words[1:]]\n",
    "    repeat = 3 if entities !='O' else 1\n",
    "    \n",
    "    ind=np.random.choice(len(re_p), size=repeat, replace=False)\n",
    "    for i in ind:\n",
    "        word = re_p[i].split()\n",
    "        enti  = [entities,]* len(word)\n",
    "        if entities !='O':\n",
    "            enti[0] = 'B-' + enti[0]\n",
    "            for k in range(1,len(enti)):enti[k] = \"I-\" + enti[k]\n",
    "        list_text_current  = list_text + word\n",
    "        list_entities_current = list_entities + enti\n",
    "        _queue(list_text_current, list_word, list_entities_current, index+1)\n",
    "    \n",
    "    \n",
    "        "
   ]
  },
  {
   "cell_type": "code",
   "execution_count": 4,
   "id": "fa060170",
   "metadata": {},
   "outputs": [],
   "source": [
    "for s in sen_['sentence']:\n",
    "    s = s.replace(\",\", \" , \") # Add an space before and after the comma\n",
    "    s = s.replace(\".\", \" . \") # Add an space before and after the point\n",
    "    s = s.replace(\"  \", \" \") # \n",
    "    _queue([],s.split(), [],0)"
   ]
  },
  {
   "cell_type": "code",
   "execution_count": 5,
   "id": "5ee0e3fa",
   "metadata": {},
   "outputs": [],
   "source": [
    "VLSP_2016='/home/tuenguyen/Desktop/24mar2021/task_nlp/join_task_gender_department/dataset/vlsp_2016/train.txt'\n",
    "VIN_AI='/home/tuenguyen/Desktop/24mar2021/task_nlp/join_task_gender_department/dataset/vinai/word/train_word.conll'"
   ]
  },
  {
   "cell_type": "code",
   "execution_count": 6,
   "id": "d45f2e3f",
   "metadata": {},
   "outputs": [],
   "source": [
    "with open(VIN_AI,\"r\") as f:\n",
    "    sentences=  f.read().split(\"\\n\\n\")\n",
    "with open(VLSP_2016,\"r\") as f:\n",
    "    sentences.extend(f.read().split(\"\\n\\n\"))\n",
    "    \n"
   ]
  },
  {
   "cell_type": "code",
   "execution_count": 7,
   "id": "8fb4ddbb",
   "metadata": {},
   "outputs": [
    {
     "data": {
      "text/plain": [
       "'anh\\tB-GENDER\\nhẹn\\tO\\nbuổi\\tO\\nhẹn\\tO\\nvới\\tO\\n1\\tO\\ntháng\\tO\\n1\\tO\\nlần\\tO\\nđể\\tO\\nkt\\tO\\nsức\\tO\\nkhỏe\\tO\\ntổng\\tO\\nquát\\tO\\ncho\\tO\\nan\\tO\\ntoàn\\tO'"
      ]
     },
     "execution_count": 7,
     "metadata": {},
     "output_type": "execute_result"
    }
   ],
   "source": [
    "sentences[-1]"
   ]
  },
  {
   "cell_type": "code",
   "execution_count": 8,
   "id": "5408a43d",
   "metadata": {},
   "outputs": [],
   "source": [
    "from preprocess.static_features import FeatureExtractor, Feature\n",
    "from preprocess.processcer_join_bert import NERProcessor"
   ]
  },
  {
   "cell_type": "code",
   "execution_count": 9,
   "id": "a4b41ccd",
   "metadata": {},
   "outputs": [],
   "source": [
    "words = sentences[0].split(\"\\n\")\n"
   ]
  },
  {
   "cell_type": "code",
   "execution_count": 10,
   "id": "2bc83a90",
   "metadata": {},
   "outputs": [],
   "source": [
    "replaces = {\n",
    "    'B-ORGANIZATION':'B-LOC',\n",
    "    'I-ORGANIZATION':'I-LOC',\n",
    "    'B-LOCATION':'B-LOC',\n",
    "    'I-LOCATION':'I-LOC',\n",
    "    'B-PER':'O',\n",
    "    'I-PER':'O',\n",
    "    'B-LOC':'B-LOC',\n",
    "    'I-LOC':'I-LOC',\n",
    "    'B-ORG':'O',\n",
    "    'I-ORG':'O',\n",
    "    'B-MISC':'O',\n",
    "    'I-MISC':'O',\n",
    "    'B-SYMPTOM_AND_DISEASE':'O',\n",
    "    'I-SYMPTOM_AND_DISEASE':'O',\n",
    "    'B-PATIENT_ID':'O',\n",
    "    'I-PATIENT_ID':'O',\n",
    "    'B-DATE':'O',\n",
    "    'I-DATE':'O',\n",
    "    'B-PATIENT_ID':'O',\n",
    "    'I-PATIENT_ID':'O',\n",
    "    'B-JOB':'O',\n",
    "    'I-JOB':'O',\n",
    "    'B-TRANSPORTATION':'O',\n",
    "    'I-TRANSPORTATION':'O',\n",
    "    'B-AGE':'O',\n",
    "    'I-AGE':'O',\n",
    "    'O':'O',\n",
    "    'B-NAME':'O',\n",
    "    'I-NAME':'O',\n",
    "    'B-GENDER':'B-GENDER',\n",
    "    'I-GENDER':'I-GENDER',\n",
    "    'O-ORGANIZATION':'O'\n",
    "}\n",
    "matches = ['B-ORG','B-GENDER','I-GENDER','I-ORG']"
   ]
  },
  {
   "cell_type": "code",
   "execution_count": 11,
   "id": "2373cd29",
   "metadata": {},
   "outputs": [],
   "source": [
    "# ner[0],sent[0]"
   ]
  },
  {
   "cell_type": "code",
   "execution_count": 12,
   "id": "8cd56ea2",
   "metadata": {},
   "outputs": [],
   "source": [
    "ner = []\n",
    "sent = []\n",
    "for i in sentences:\n",
    "    if len(i) == 0:continue\n",
    "    words = i.split(\"\\n\")\n",
    "#     print(words)\n",
    "#     for x in words:\n",
    "#         print(x)\n",
    "    nerx = [replaces[x.split()[-1]] for x in words]\n",
    "    sentx = [x.split()[0] for x in words]\n",
    "    for ix in range(len(sentx)):\n",
    "        if 'chồng' == sentx[ix].strip():\n",
    "            if 'GENDER' not in nerx[ix]:nerx[ix]='B-GENDER'\n",
    "        if 'vợ' == sentx[ix].strip():\n",
    "            if 'GENDER' not in nerx[ix]:nerx[ix]='B-GENDER'\n",
    "        if 'ông' == sentx[ix].strip():\n",
    "            if 'GENDER' not in nerx[ix]:nerx[ix]='B-GENDER'\n",
    "        if 'mẹ' == sentx[ix].strip():\n",
    "            if 'GENDER' not in nerx[ix]:nerx[ix]='B-GENDER'\n",
    "        if 'bô' == sentx[ix].strip():\n",
    "            if 'GENDER' not in nerx[ix]:nerx[ix]='B-GENDER'\n",
    "        if 'anh' == sentx[ix].strip() and nerx[ix] =='O':\n",
    "            nerx[ix]='B-GENDER'\n",
    "        if 'chị' == sentx[ix].strip() and nerx[ix] =='O':\n",
    "            nerx[ix]='B-GENDER'\n",
    "        if 'phụ nữ' == sentx[ix].strip() and nerx[ix] =='O':\n",
    "            nerx[ix]='B-GENDER'\n",
    "        if 'phụ_nữ' == sentx[ix].strip() and nerx[ix] =='O':\n",
    "            nerx[ix]='B-GENDER'\n",
    "        if 'dàn_ông' == sentx[ix].strip() and nerx[ix] =='O':\n",
    "            nerx[ix]='B-GENDER'\n",
    "        \n",
    "    ner.append(nerx)\n",
    "    sent.append(sentx)"
   ]
  },
  {
   "cell_type": "code",
   "execution_count": 13,
   "id": "42aefade",
   "metadata": {},
   "outputs": [],
   "source": [
    "sent.extend(text_global)\n",
    "ner.extend(entities_global)"
   ]
  },
  {
   "cell_type": "code",
   "execution_count": 14,
   "id": "0a309c96",
   "metadata": {},
   "outputs": [
    {
     "data": {
      "text/plain": [
       "(20556,\n",
       " ['O',\n",
       "  'O',\n",
       "  'O',\n",
       "  'O',\n",
       "  'O',\n",
       "  'O',\n",
       "  'O',\n",
       "  'O',\n",
       "  'O',\n",
       "  'O',\n",
       "  'O',\n",
       "  'O',\n",
       "  'O',\n",
       "  'O',\n",
       "  'O',\n",
       "  'B-LOC',\n",
       "  'I-LOC',\n",
       "  'O'])"
      ]
     },
     "execution_count": 14,
     "metadata": {},
     "output_type": "execute_result"
    }
   ],
   "source": [
    "len(sent),ner[0]"
   ]
  },
  {
   "cell_type": "code",
   "execution_count": 15,
   "id": "05413509",
   "metadata": {},
   "outputs": [],
   "source": [
    "z=[0,0]\n",
    "for i in ner:\n",
    "    for k in i:\n",
    "        if k=='B-LOC':z[0]+=1\n",
    "        if k=='B-GENDER':z[1] += 1"
   ]
  },
  {
   "cell_type": "code",
   "execution_count": 16,
   "id": "07cfc1cf",
   "metadata": {},
   "outputs": [
    {
     "data": {
      "text/plain": [
       "[12477, 7050]"
      ]
     },
     "execution_count": 16,
     "metadata": {},
     "output_type": "execute_result"
    }
   ],
   "source": [
    "z"
   ]
  },
  {
   "cell_type": "code",
   "execution_count": 19,
   "id": "1bd0c1d6",
   "metadata": {},
   "outputs": [],
   "source": [
    "from sklearn.model_selection import train_test_split\n",
    "X_train, X_test, y_train, y_test = train_test_split(\n",
    "    sent, ner, test_size=0.2, random_state=42)\n"
   ]
  },
  {
   "cell_type": "code",
   "execution_count": 22,
   "id": "c5b21072",
   "metadata": {},
   "outputs": [],
   "source": [
    "data_plot = {\n",
    "    'gender_train':0,\n",
    "    'dep_train':0,\n",
    "    'gender_test':0,\n",
    "    'dep_test':0\n",
    "}\n",
    "for i in y_train:\n",
    "#     break\n",
    "    for k in i:\n",
    "        if k=='B-LOC':data_plot['dep_train']+=1 \n",
    "        if k=='B-GENDER': data_plot['gender_train'] += 1\n",
    "for i in y_test:\n",
    "#     break\n",
    "    for k in i:\n",
    "        if k=='B-LOC':data_plot['dep_test']+=1 \n",
    "        if k=='B-GENDER': data_plot['gender_test'] += 1\n"
   ]
  },
  {
   "cell_type": "code",
   "execution_count": 27,
   "id": "15455ed3",
   "metadata": {},
   "outputs": [
    {
     "data": {
      "text/plain": [
       "{'gender_train': 5617,\n",
       " 'dep_train': 10007,\n",
       " 'gender_test': 1433,\n",
       " 'dep_test': 2470}"
      ]
     },
     "execution_count": 27,
     "metadata": {},
     "output_type": "execute_result"
    }
   ],
   "source": [
    "data_plot"
   ]
  },
  {
   "cell_type": "code",
   "execution_count": 26,
   "id": "b6f05e13",
   "metadata": {},
   "outputs": [
    {
     "data": {
      "text/plain": [
       "<AxesSubplot:>"
      ]
     },
     "execution_count": 26,
     "metadata": {},
     "output_type": "execute_result"
    },
    {
     "data": {
      "image/png": "[encoded data removed]",
      "text/plain": [
       "<Figure size 432x288 with 1 Axes>"
      ]
     },
     "metadata": {
      "needs_background": "light"
     },
     "output_type": "display_data"
    }
   ],
   "source": [
    "pd.DataFrame([data_plot]).plot.bar()"
   ]
  },
  {
   "cell_type": "code",
   "execution_count": 18,
   "id": "9ab9b9f4",
   "metadata": {},
   "outputs": [],
   "source": [
    "# ner = []\n",
    "# sent = []\n",
    "# for i in sentences:\n",
    "#     if len(i) == 0:continue\n",
    "#     words = i.split(\"\\n\")\n",
    "#     nerx = [replaces[x.split()[-1]] for x in words]\n",
    "#     sentx = [x.split()[0] for x in words]\n",
    "#     ner.append(nerx)\n",
    "#     sent.append(sentx)"
   ]
  },
  {
   "cell_type": "code",
   "execution_count": 19,
   "id": "0f574754",
   "metadata": {},
   "outputs": [],
   "source": [
    "text= \" \".join(X_train[0])\n"
   ]
  },
  {
   "cell_type": "code",
   "execution_count": 20,
   "id": "49b9e7f9",
   "metadata": {},
   "outputs": [],
   "source": [
    "fe = FeatureExtractor(dict_dir='resources/features')"
   ]
  },
  {
   "cell_type": "code",
   "execution_count": 25,
   "id": "a57140ff",
   "metadata": {},
   "outputs": [],
   "source": [
    "fi = []\n",
    "for text, ne in zip(X_train,y_train):\n",
    "    fi.append(fe.extract_feature(text, ner_labels=ne, is_segmentation=True, format='text'))# + \"\\n\""
   ]
  },
  {
   "cell_type": "code",
   "execution_count": 22,
   "id": "5476e545",
   "metadata": {},
   "outputs": [],
   "source": [
    "# ne"
   ]
  },
  {
   "cell_type": "code",
   "execution_count": 23,
   "id": "ef3ae6da",
   "metadata": {},
   "outputs": [],
   "source": [
    "# # fi = []\n",
    "# for text, ne in zip(sent,ner):\n",
    "#     fi.append(fe.extract_feature(text, ner_labels=ne, is_segmentation=True, format='text'))# + \"\\n\""
   ]
  },
  {
   "cell_type": "code",
   "execution_count": 26,
   "id": "a73b3f53",
   "metadata": {},
   "outputs": [],
   "source": [
    "with open(\"./dataset/train.csv\",\"w+\") as f:\n",
    "    for i in range(len(fi)):\n",
    "        f.write(\"\\n\".join(fi[i]))\n",
    "        f.write(\"\\n\\n\")"
   ]
  },
  {
   "cell_type": "code",
   "execution_count": 21,
   "id": "781061b7",
   "metadata": {},
   "outputs": [],
   "source": [
    "# fi[0]\n",
    "    \n",
    "VLSP_2016='/home/tuenguyen/Desktop/24mar2021/task_nlp/join_task_gender_department/dataset/vlsp_2016/test.txt'\n",
    "VIN_AI='/home/tuenguyen/Desktop/24mar2021/task_nlp/join_task_gender_department/dataset/vinai/word/test_word.conll'\n",
    "with open(VIN_AI,\"r\") as f:\n",
    "    sentences=  f.read().split(\"\\n\\n\")\n",
    "with open(VLSP_2016,\"r\") as f:\n",
    "    sentences.extend(f.read().split(\"\\n\\n\"))\n",
    "ner = []\n",
    "sent = []\n",
    "for i in sentences:\n",
    "    if len(i) == 0:continue\n",
    "    words = i.split(\"\\n\")\n",
    "#     print(words)\n",
    "#     for x in words:\n",
    "#         print(x)\n",
    "    nerx = [replaces[x.split()[-1]] for x in words]\n",
    "    sentx = [x.split()[0] for x in words]\n",
    "    for ix in range(len(sentx)):\n",
    "        if 'chồng' == sentx[ix].strip():\n",
    "            if 'GENDER' not in nerx[ix]:nerx[ix]='B-GENDER'\n",
    "        if 'vợ' == sentx[ix].strip():\n",
    "            if 'GENDER' not in nerx[ix]:nerx[ix]='B-GENDER'\n",
    "        if 'ông' == sentx[ix].strip():\n",
    "            if 'GENDER' not in nerx[ix]:nerx[ix]='B-GENDER'\n",
    "        if 'mẹ' == sentx[ix].strip():\n",
    "            if 'GENDER' not in nerx[ix]:nerx[ix]='B-GENDER'\n",
    "        if 'bố' == sentx[ix].strip():\n",
    "            if 'GENDER' not in nerx[ix]:nerx[ix]='B-GENDER'\n",
    "    ner.append(nerx)\n",
    "    sent.append(sentx)\n",
    "fi = []\n",
    "for text, ne in zip(sent,ner):\n",
    "    fi.append(fe.extract_feature(text, ner_labels=ne, is_segmentation=True, format='text'))# + \"\\n\"\n",
    "with open(\"./dataset/test.csv\",\"w+\") as f:\n",
    "    for i in range(len(fi)):\n",
    "        f.write(\"\\n\".join(fi[i]))\n",
    "        f.write(\"\\n\\n\")"
   ]
  },
  {
   "cell_type": "code",
   "execution_count": 162,
   "id": "d21d3964",
   "metadata": {},
   "outputs": [],
   "source": [
    "import csv\n",
    "with open('./dataset/test.csv', \"r\", encoding=\"utf-8\") as f:\n",
    "    reader = csv.reader(f, delimiter=\"\\t\")\n",
    "    eid = 0\n",
    "    words = []\n",
    "    feats = []\n",
    "    labels = []\n",
    "    examples = []\n",
    "#     print(len(list(reader)))\n",
    "    for line in reader:\n",
    "#         print(len(line))\n",
    "        if len(line) >= 2:\n",
    "            words.append(line[0].strip())\n",
    "            labels.append(line[-1].strip())\n",
    "            if True:\n",
    "                feat = []\n",
    "                for item in line[1:-1]:\n",
    "                    k, v = item.split(\"]\")\n",
    "                    feat.append((f\"{k}]\", v))\n",
    "                feats.append(feat)\n",
    "        else:\n",
    "            examples.append((eid, words, labels, feats))\n",
    "            words = []\n",
    "            feats = []\n",
    "            labels = []\n",
    "            eid += 1\n",
    "#     return examples"
   ]
  },
  {
   "cell_type": "code",
   "execution_count": 163,
   "id": "f8ebff9e",
   "metadata": {},
   "outputs": [
    {
     "data": {
      "text/plain": [
       "4182"
      ]
     },
     "execution_count": 163,
     "metadata": {},
     "output_type": "execute_result"
    }
   ],
   "source": [
    "eid"
   ]
  },
  {
   "cell_type": "code",
   "execution_count": 19,
   "id": "afecba13",
   "metadata": {},
   "outputs": [
    {
     "data": {
      "text/plain": [
       "[]"
      ]
     },
     "execution_count": 19,
     "metadata": {},
     "output_type": "execute_result"
    }
   ],
   "source": [
    "feats"
   ]
  },
  {
   "cell_type": "code",
   "execution_count": 20,
   "id": "965f0458",
   "metadata": {},
   "outputs": [
    {
     "data": {
      "text/plain": [
       "2592"
      ]
     },
     "execution_count": 20,
     "metadata": {},
     "output_type": "execute_result"
    }
   ],
   "source": [
    "eid"
   ]
  },
  {
   "cell_type": "code",
   "execution_count": 21,
   "id": "c47e6461",
   "metadata": {},
   "outputs": [
    {
     "data": {
      "text/plain": [
       "(12,\n",
       " ['Cả',\n",
       "  'hai',\n",
       "  'đều',\n",
       "  'thuộc',\n",
       "  'diện',\n",
       "  'xét_nghiệm',\n",
       "  'sàng_lọc',\n",
       "  ',',\n",
       "  'lấy',\n",
       "  'mẫu',\n",
       "  'bệnh_phẩm',\n",
       "  'ngày',\n",
       "  '11/4',\n",
       "  ',',\n",
       "  'kết_quả',\n",
       "  'dương_tính',\n",
       "  'ngày',\n",
       "  '13/4',\n",
       "  ',',\n",
       "  'điều_trị',\n",
       "  'tại',\n",
       "  'Bệnh_viện',\n",
       "  'Bệnh',\n",
       "  'Nhiệt_đới',\n",
       "  'Trung_ương',\n",
       "  'cơ_sở',\n",
       "  '2',\n",
       "  '.'],\n",
       " ['O',\n",
       "  'O',\n",
       "  'O',\n",
       "  'O',\n",
       "  'O',\n",
       "  'O',\n",
       "  'O',\n",
       "  'O',\n",
       "  'O',\n",
       "  'O',\n",
       "  'O',\n",
       "  'O',\n",
       "  'O',\n",
       "  'O',\n",
       "  'O',\n",
       "  'O',\n",
       "  'O',\n",
       "  'O',\n",
       "  'O',\n",
       "  'O',\n",
       "  'O',\n",
       "  'B-LOC',\n",
       "  'I-LOC',\n",
       "  'I-LOC',\n",
       "  'I-LOC',\n",
       "  'I-LOC',\n",
       "  'I-LOC',\n",
       "  'O'],\n",
       " [[('[Case]', 'I_Cap'),\n",
       "   ('[SC]', 'N_Cap'),\n",
       "   ('[FW]', '1'),\n",
       "   ('[QB]', '0'),\n",
       "   ('[Num]', '0'),\n",
       "   ('[LOC]', '1'),\n",
       "   ('[ORG]', '0'),\n",
       "   ('[PER]', '0'),\n",
       "   ('[PPOS]', '0')],\n",
       "  [('[Case]', 'N_Cap'),\n",
       "   ('[SC]', 'Pre_Cap'),\n",
       "   ('[FW]', '0'),\n",
       "   ('[QB]', '0'),\n",
       "   ('[Num]', '1'),\n",
       "   ('[LOC]', '0'),\n",
       "   ('[ORG]', '0'),\n",
       "   ('[PER]', '0'),\n",
       "   ('[PPOS]', '0')],\n",
       "  [('[Case]', 'N_Cap'),\n",
       "   ('[SC]', 'N_Cap'),\n",
       "   ('[FW]', '0'),\n",
       "   ('[QB]', '0'),\n",
       "   ('[Num]', '0'),\n",
       "   ('[LOC]', '0'),\n",
       "   ('[ORG]', '0'),\n",
       "   ('[PER]', '0'),\n",
       "   ('[PPOS]', '0')],\n",
       "  [('[Case]', 'N_Cap'),\n",
       "   ('[SC]', 'N_Cap'),\n",
       "   ('[FW]', '0'),\n",
       "   ('[QB]', '0'),\n",
       "   ('[Num]', '0'),\n",
       "   ('[LOC]', '0'),\n",
       "   ('[ORG]', '0'),\n",
       "   ('[PER]', '0'),\n",
       "   ('[PPOS]', '0')],\n",
       "  [('[Case]', 'N_Cap'),\n",
       "   ('[SC]', 'N_Cap'),\n",
       "   ('[FW]', '0'),\n",
       "   ('[QB]', '0'),\n",
       "   ('[Num]', '0'),\n",
       "   ('[LOC]', '0'),\n",
       "   ('[ORG]', '0'),\n",
       "   ('[PER]', '0'),\n",
       "   ('[PPOS]', '0')],\n",
       "  [('[Case]', 'N_Cap'),\n",
       "   ('[SC]', 'N_Cap'),\n",
       "   ('[FW]', '0'),\n",
       "   ('[QB]', '0'),\n",
       "   ('[Num]', '0'),\n",
       "   ('[LOC]', '0'),\n",
       "   ('[ORG]', '0'),\n",
       "   ('[PER]', '0'),\n",
       "   ('[PPOS]', '0')],\n",
       "  [('[Case]', 'N_Cap'),\n",
       "   ('[SC]', 'N_Cap'),\n",
       "   ('[FW]', '0'),\n",
       "   ('[QB]', '0'),\n",
       "   ('[Num]', '0'),\n",
       "   ('[LOC]', '0'),\n",
       "   ('[ORG]', '0'),\n",
       "   ('[PER]', '0'),\n",
       "   ('[PPOS]', '0')],\n",
       "  [('[Case]', 'N_Cap'),\n",
       "   ('[SC]', 'N_Cap'),\n",
       "   ('[FW]', '0'),\n",
       "   ('[QB]', '0'),\n",
       "   ('[Num]', '0'),\n",
       "   ('[LOC]', '0'),\n",
       "   ('[ORG]', '0'),\n",
       "   ('[PER]', '0'),\n",
       "   ('[PPOS]', '0')],\n",
       "  [('[Case]', 'N_Cap'),\n",
       "   ('[SC]', 'N_Cap'),\n",
       "   ('[FW]', '0'),\n",
       "   ('[QB]', '0'),\n",
       "   ('[Num]', '0'),\n",
       "   ('[LOC]', '0'),\n",
       "   ('[ORG]', '0'),\n",
       "   ('[PER]', '0'),\n",
       "   ('[PPOS]', '0')],\n",
       "  [('[Case]', 'N_Cap'),\n",
       "   ('[SC]', 'N_Cap'),\n",
       "   ('[FW]', '0'),\n",
       "   ('[QB]', '0'),\n",
       "   ('[Num]', '0'),\n",
       "   ('[LOC]', '0'),\n",
       "   ('[ORG]', '0'),\n",
       "   ('[PER]', '0'),\n",
       "   ('[PPOS]', '0')],\n",
       "  [('[Case]', 'N_Cap'),\n",
       "   ('[SC]', 'N_Cap'),\n",
       "   ('[FW]', '0'),\n",
       "   ('[QB]', '0'),\n",
       "   ('[Num]', '0'),\n",
       "   ('[LOC]', '0'),\n",
       "   ('[ORG]', '0'),\n",
       "   ('[PER]', '0'),\n",
       "   ('[PPOS]', '0')],\n",
       "  [('[Case]', 'N_Cap'),\n",
       "   ('[SC]', 'N_Cap'),\n",
       "   ('[FW]', '0'),\n",
       "   ('[QB]', '0'),\n",
       "   ('[Num]', '0'),\n",
       "   ('[LOC]', '0'),\n",
       "   ('[ORG]', '0'),\n",
       "   ('[PER]', '0'),\n",
       "   ('[PPOS]', '0')],\n",
       "  [('[Case]', 'N_Cap'),\n",
       "   ('[SC]', 'N_Cap'),\n",
       "   ('[FW]', '0'),\n",
       "   ('[QB]', '0'),\n",
       "   ('[Num]', '1'),\n",
       "   ('[LOC]', '0'),\n",
       "   ('[ORG]', '0'),\n",
       "   ('[PER]', '0'),\n",
       "   ('[PPOS]', '0')],\n",
       "  [('[Case]', 'N_Cap'),\n",
       "   ('[SC]', 'N_Cap'),\n",
       "   ('[FW]', '0'),\n",
       "   ('[QB]', '0'),\n",
       "   ('[Num]', '0'),\n",
       "   ('[LOC]', '0'),\n",
       "   ('[ORG]', '0'),\n",
       "   ('[PER]', '0'),\n",
       "   ('[PPOS]', '0')],\n",
       "  [('[Case]', 'N_Cap'),\n",
       "   ('[SC]', 'N_Cap'),\n",
       "   ('[FW]', '0'),\n",
       "   ('[QB]', '0'),\n",
       "   ('[Num]', '0'),\n",
       "   ('[LOC]', '0'),\n",
       "   ('[ORG]', '0'),\n",
       "   ('[PER]', '0'),\n",
       "   ('[PPOS]', '0')],\n",
       "  [('[Case]', 'N_Cap'),\n",
       "   ('[SC]', 'N_Cap'),\n",
       "   ('[FW]', '0'),\n",
       "   ('[QB]', '0'),\n",
       "   ('[Num]', '0'),\n",
       "   ('[LOC]', '0'),\n",
       "   ('[ORG]', '0'),\n",
       "   ('[PER]', '0'),\n",
       "   ('[PPOS]', '0')],\n",
       "  [('[Case]', 'N_Cap'),\n",
       "   ('[SC]', 'N_Cap'),\n",
       "   ('[FW]', '0'),\n",
       "   ('[QB]', '0'),\n",
       "   ('[Num]', '0'),\n",
       "   ('[LOC]', '0'),\n",
       "   ('[ORG]', '0'),\n",
       "   ('[PER]', '0'),\n",
       "   ('[PPOS]', '0')],\n",
       "  [('[Case]', 'N_Cap'),\n",
       "   ('[SC]', 'N_Cap'),\n",
       "   ('[FW]', '0'),\n",
       "   ('[QB]', '0'),\n",
       "   ('[Num]', '1'),\n",
       "   ('[LOC]', '0'),\n",
       "   ('[ORG]', '0'),\n",
       "   ('[PER]', '0'),\n",
       "   ('[PPOS]', '0')],\n",
       "  [('[Case]', 'N_Cap'),\n",
       "   ('[SC]', 'N_Cap'),\n",
       "   ('[FW]', '0'),\n",
       "   ('[QB]', '0'),\n",
       "   ('[Num]', '0'),\n",
       "   ('[LOC]', '0'),\n",
       "   ('[ORG]', '0'),\n",
       "   ('[PER]', '0'),\n",
       "   ('[PPOS]', '0')],\n",
       "  [('[Case]', 'N_Cap'),\n",
       "   ('[SC]', 'N_Cap'),\n",
       "   ('[FW]', '0'),\n",
       "   ('[QB]', '0'),\n",
       "   ('[Num]', '0'),\n",
       "   ('[LOC]', '0'),\n",
       "   ('[ORG]', '0'),\n",
       "   ('[PER]', '0'),\n",
       "   ('[PPOS]', '0')],\n",
       "  [('[Case]', 'N_Cap'),\n",
       "   ('[SC]', 'Pos_Cap'),\n",
       "   ('[FW]', '0'),\n",
       "   ('[QB]', '0'),\n",
       "   ('[Num]', '0'),\n",
       "   ('[LOC]', '0'),\n",
       "   ('[ORG]', '0'),\n",
       "   ('[PER]', '0'),\n",
       "   ('[PPOS]', '0')],\n",
       "  [('[Case]', 'I_Cap'),\n",
       "   ('[SC]', 'Pos_Cap'),\n",
       "   ('[FW]', '0'),\n",
       "   ('[QB]', '0'),\n",
       "   ('[Num]', '0'),\n",
       "   ('[LOC]', '0'),\n",
       "   ('[ORG]', '1'),\n",
       "   ('[PER]', '0'),\n",
       "   ('[PPOS]', '0')],\n",
       "  [('[Case]', 'I_Cap'),\n",
       "   ('[SC]', 'I_Cap'),\n",
       "   ('[FW]', '0'),\n",
       "   ('[QB]', '0'),\n",
       "   ('[Num]', '0'),\n",
       "   ('[LOC]', '0'),\n",
       "   ('[ORG]', '1'),\n",
       "   ('[PER]', '0'),\n",
       "   ('[PPOS]', '0')],\n",
       "  [('[Case]', 'I_Cap'),\n",
       "   ('[SC]', 'I_Cap'),\n",
       "   ('[FW]', '0'),\n",
       "   ('[QB]', '0'),\n",
       "   ('[Num]', '0'),\n",
       "   ('[LOC]', '0'),\n",
       "   ('[ORG]', '1'),\n",
       "   ('[PER]', '0'),\n",
       "   ('[PPOS]', '0')],\n",
       "  [('[Case]', 'I_Cap'),\n",
       "   ('[SC]', 'Pre_Cap'),\n",
       "   ('[FW]', '0'),\n",
       "   ('[QB]', '0'),\n",
       "   ('[Num]', '0'),\n",
       "   ('[LOC]', '0'),\n",
       "   ('[ORG]', '0'),\n",
       "   ('[PER]', '0'),\n",
       "   ('[PPOS]', '0')],\n",
       "  [('[Case]', 'N_Cap'),\n",
       "   ('[SC]', 'Pre_Cap'),\n",
       "   ('[FW]', '0'),\n",
       "   ('[QB]', '0'),\n",
       "   ('[Num]', '0'),\n",
       "   ('[LOC]', '0'),\n",
       "   ('[ORG]', '0'),\n",
       "   ('[PER]', '0'),\n",
       "   ('[PPOS]', '0')],\n",
       "  [('[Case]', 'N_Cap'),\n",
       "   ('[SC]', 'N_Cap'),\n",
       "   ('[FW]', '0'),\n",
       "   ('[QB]', '0'),\n",
       "   ('[Num]', '1'),\n",
       "   ('[LOC]', '0'),\n",
       "   ('[ORG]', '0'),\n",
       "   ('[PER]', '0'),\n",
       "   ('[PPOS]', '0')],\n",
       "  [('[Case]', 'N_Cap'),\n",
       "   ('[SC]', 'N_Cap'),\n",
       "   ('[FW]', '0'),\n",
       "   ('[QB]', '0'),\n",
       "   ('[Num]', '0'),\n",
       "   ('[LOC]', '0'),\n",
       "   ('[ORG]', '0'),\n",
       "   ('[PER]', '0'),\n",
       "   ('[PPOS]', '0')]])"
      ]
     },
     "execution_count": 21,
     "metadata": {},
     "output_type": "execute_result"
    }
   ],
   "source": [
    "examples[12]"
   ]
  },
  {
   "cell_type": "code",
   "execution_count": 119,
   "id": "65c3c49b",
   "metadata": {},
   "outputs": [
    {
     "name": "stderr",
     "output_type": "stream",
     "text": [
      "Special tokens have been added in the vocabulary, make sure the associated word embedding are fine-tuned or trained.\n"
     ]
    }
   ],
   "source": [
    "import torch\n",
    "from transformers import AutoModel, AutoTokenizer\n",
    "# For transformers v4.x+: \n",
    "tokenizer = AutoTokenizer.from_pretrained(\"vinai/phobert-base\", use_fast=False)"
   ]
  },
  {
   "cell_type": "code",
   "execution_count": 120,
   "id": "7233feba",
   "metadata": {},
   "outputs": [
    {
     "name": "stderr",
     "output_type": "stream",
     "text": [
      "  3%|▎         | 254/8703 [00:00<00:06, 1300.22it/s]"
     ]
    },
    {
     "name": "stdout",
     "output_type": "stream",
     "text": [
      "*** Example ***\n",
      "guid: 0\n",
      "tokens: Đó là con đường biển ngắn nhất để đi từ Ấn sang Thái , chiếm đến lượng hàng lưu đường của thế , đó là hải lớn nhất từ tây sang đông với 50.000 lượt tàu qua mỗi năm ...\n",
      "input_ids: 3 669 8 73 109 262 1131 67 24 57 39 8978 295 1709 4 724 30 525 119 3230 109 7 570 4 37 8 10317 103 67 39 2615 295 553 15 3976 1030 356 89 205 29 135 3 0 0 0 0 0 0 0 0 0 0 0 0 0 0 0 0 0 0 0 0 0 0 0 0 0 0 0 0 0 0 0 0 0 0 0 0 0 0 0 0 0 0 0 0 0 0 0 0 0 0 0 0 0 0 0 0 0 0 0 0 0 0 0 0 0 0 0 0 0 0 0 0 0 0 0 0 0 0 0 0 0 0 0 0\n",
      "attention_masks: 1 1 1 1 1 1 1 1 1 1 1 1 1 1 1 1 1 1 1 1 1 1 1 1 1 1 1 1 1 1 1 1 1 1 1 1 1 1 1 1 1 1 0 0 0 0 0 0 0 0 0 0 0 0 0 0 0 0 0 0 0 0 0 0 0 0 0 0 0 0 0 0 0 0 0 0 0 0 0 0 0 0 0 0 0 0 0 0 0 0 0 0 0 0 0 0 0 0 0 0 0 0 0 0 0 0 0 0 0 0 0 0 0 0 0 0 0 0 0 0 0 0 0 0 0 0\n",
      "valid_mask: 0 1 1 1 1 1 1 1 1 1 1 1 1 1 1 1 1 1 1 1 1 1 1 1 1 1 1 1 1 1 1 1 1 1 1 1 1 1 1 1 1 0 0 0 0 0 0 0 0 0 0 0 0 0 0 0 0 0 0 0 0 0 0 0 0 0 0 0 0 0 0 0 0 0 0 0 0 0 0 0 0 0 0 0 0 0 0 0 0 0 0 0 0 0 0 0 0 0 0 0 0 0 0 0 0 0 0 0 0 0 0 0 0 0 0 0 0 0 0 0 0 0 0 0 0 0\n",
      "segment_ids: 0 0 0 0 0 0 0 0 0 0 0 0 0 0 0 0 0 0 0 0 0 0 0 0 0 0 0 0 0 0 0 0 0 0 0 0 0 0 0 0 0 0 0 0 0 0 0 0 0 0 0 0 0 0 0 0 0 0 0 0 0 0 0 0 0 0 0 0 0 0 0 0 0 0 0 0 0 0 0 0 0 0 0 0 0 0 0 0 0 0 0 0 0 0 0 0 0 0 0 0 0 0 0 0 0 0 0 0 0 0 0 0 0 0 0 0 0 0 0 0 0 0 0 0 0 0\n",
      "label: 1 1 1 1 1 1 1 1 1 1 4 1 4 1 1 1 1 1 1 1 1 1 1 1 1 1 1 1 1 1 1 1 1 1 1 1 1 1 1 1 0 0 0 0 0 0 0 0 0 0 0 0 0 0 0 0 0 0 0 0 0 0 0 0 0 0 0 0 0 0 0 0 0 0 0 0 0 0 0 0 0 0 0 0 0 0 0 0 0 0 0 0 0 0 0 0 0 0 0 0 0 0 0 0 0 0 0 0 0 0 0 0 0 0 0 0 0 0 0 0 0 0 0 0 0 0\n",
      "label_mask: 1 1 1 1 1 1 1 1 1 1 1 1 1 1 1 1 1 1 1 1 1 1 1 1 1 1 1 1 1 1 1 1 1 1 1 1 1 1 1 1 0 0 0 0 0 0 0 0 0 0 0 0 0 0 0 0 0 0 0 0 0 0 0 0 0 0 0 0 0 0 0 0 0 0 0 0 0 0 0 0 0 0 0 0 0 0 0 0 0 0 0 0 0 0 0 0 0 0 0 0 0 0 0 0 0 0 0 0 0 0 0 0 0 0 0 0 0 0 0 0 0 0 0 0 0 0\n",
      "feats:\n",
      "\t[Case]: [1, 2, 4, 4, 4, 4, 4, 4, 4, 4, 4, 2, 4, 2, 4, 4, 4, 4, 4, 4, 4, 4, 4, 4, 4, 4, 4, 4, 4, 4, 4, 4, 4, 4, 4, 4, 4, 4, 4, 4, 4, 1, 0, 0, 0, 0, 0, 0, 0, 0, 0, 0, 0, 0, 0, 0, 0, 0, 0, 0, 0, 0, 0, 0, 0, 0, 0, 0, 0, 0, 0, 0, 0, 0, 0, 0, 0, 0, 0, 0, 0, 0, 0, 0, 0, 0, 0, 0, 0, 0, 0, 0, 0, 0, 0, 0, 0, 0, 0, 0, 0, 0, 0, 0, 0, 0, 0, 0, 0, 0, 0, 0, 0, 0, 0, 0, 0, 0, 0, 0, 0, 0, 0, 0, 0, 0]\n",
      "\t[SC]: [2, 3, 1, 3, 3, 3, 3, 3, 3, 3, 2, 3, 5, 3, 1, 3, 3, 3, 3, 3, 3, 3, 3, 3, 3, 3, 3, 3, 3, 3, 3, 3, 3, 3, 3, 3, 3, 3, 3, 3, 3, 2, 0, 0, 0, 0, 0, 0, 0, 0, 0, 0, 0, 0, 0, 0, 0, 0, 0, 0, 0, 0, 0, 0, 0, 0, 0, 0, 0, 0, 0, 0, 0, 0, 0, 0, 0, 0, 0, 0, 0, 0, 0, 0, 0, 0, 0, 0, 0, 0, 0, 0, 0, 0, 0, 0, 0, 0, 0, 0, 0, 0, 0, 0, 0, 0, 0, 0, 0, 0, 0, 0, 0, 0, 0, 0, 0, 0, 0, 0, 0, 0, 0, 0, 0, 0]\n",
      "\t[FW]: [1, 2, 1, 1, 1, 1, 1, 1, 1, 1, 1, 1, 1, 1, 1, 1, 1, 1, 1, 1, 1, 1, 1, 1, 1, 1, 1, 1, 1, 1, 1, 1, 1, 1, 1, 1, 1, 1, 1, 1, 1, 1, 0, 0, 0, 0, 0, 0, 0, 0, 0, 0, 0, 0, 0, 0, 0, 0, 0, 0, 0, 0, 0, 0, 0, 0, 0, 0, 0, 0, 0, 0, 0, 0, 0, 0, 0, 0, 0, 0, 0, 0, 0, 0, 0, 0, 0, 0, 0, 0, 0, 0, 0, 0, 0, 0, 0, 0, 0, 0, 0, 0, 0, 0, 0, 0, 0, 0, 0, 0, 0, 0, 0, 0, 0, 0, 0, 0, 0, 0, 0, 0, 0, 0, 0, 0]\n",
      "\t[QB]: [1, 1, 1, 1, 1, 1, 1, 1, 1, 1, 1, 1, 1, 1, 1, 1, 1, 1, 1, 1, 1, 1, 1, 1, 1, 1, 1, 1, 1, 1, 1, 1, 1, 1, 1, 1, 1, 1, 1, 1, 1, 1, 0, 0, 0, 0, 0, 0, 0, 0, 0, 0, 0, 0, 0, 0, 0, 0, 0, 0, 0, 0, 0, 0, 0, 0, 0, 0, 0, 0, 0, 0, 0, 0, 0, 0, 0, 0, 0, 0, 0, 0, 0, 0, 0, 0, 0, 0, 0, 0, 0, 0, 0, 0, 0, 0, 0, 0, 0, 0, 0, 0, 0, 0, 0, 0, 0, 0, 0, 0, 0, 0, 0, 0, 0, 0, 0, 0, 0, 0, 0, 0, 0, 0, 0, 0]\n",
      "\t[Num]: [1, 1, 1, 1, 1, 1, 1, 1, 1, 1, 1, 1, 1, 1, 1, 1, 1, 1, 1, 1, 1, 1, 1, 1, 1, 1, 1, 1, 1, 1, 1, 1, 1, 1, 2, 1, 1, 1, 1, 2, 1, 1, 0, 0, 0, 0, 0, 0, 0, 0, 0, 0, 0, 0, 0, 0, 0, 0, 0, 0, 0, 0, 0, 0, 0, 0, 0, 0, 0, 0, 0, 0, 0, 0, 0, 0, 0, 0, 0, 0, 0, 0, 0, 0, 0, 0, 0, 0, 0, 0, 0, 0, 0, 0, 0, 0, 0, 0, 0, 0, 0, 0, 0, 0, 0, 0, 0, 0, 0, 0, 0, 0, 0, 0, 0, 0, 0, 0, 0, 0, 0, 0, 0, 0, 0, 0]\n",
      "\t[LOC]: [1, 1, 1, 1, 1, 1, 1, 1, 1, 1, 1, 1, 1, 2, 1, 1, 1, 1, 1, 1, 1, 1, 1, 1, 1, 1, 1, 1, 1, 1, 2, 1, 2, 1, 1, 1, 2, 1, 1, 1, 1, 1, 0, 0, 0, 0, 0, 0, 0, 0, 0, 0, 0, 0, 0, 0, 0, 0, 0, 0, 0, 0, 0, 0, 0, 0, 0, 0, 0, 0, 0, 0, 0, 0, 0, 0, 0, 0, 0, 0, 0, 0, 0, 0, 0, 0, 0, 0, 0, 0, 0, 0, 0, 0, 0, 0, 0, 0, 0, 0, 0, 0, 0, 0, 0, 0, 0, 0, 0, 0, 0, 0, 0, 0, 0, 0, 0, 0, 0, 0, 0, 0, 0, 0, 0, 0]\n",
      "\t[ORG]: [1, 1, 1, 1, 1, 1, 1, 1, 1, 1, 1, 1, 1, 1, 1, 1, 1, 1, 1, 1, 1, 1, 1, 1, 1, 1, 1, 1, 1, 1, 1, 1, 1, 1, 1, 1, 1, 1, 1, 1, 1, 1, 0, 0, 0, 0, 0, 0, 0, 0, 0, 0, 0, 0, 0, 0, 0, 0, 0, 0, 0, 0, 0, 0, 0, 0, 0, 0, 0, 0, 0, 0, 0, 0, 0, 0, 0, 0, 0, 0, 0, 0, 0, 0, 0, 0, 0, 0, 0, 0, 0, 0, 0, 0, 0, 0, 0, 0, 0, 0, 0, 0, 0, 0, 0, 0, 0, 0, 0, 0, 0, 0, 0, 0, 0, 0, 0, 0, 0, 0, 0, 0, 0, 0, 0, 0]\n",
      "\t[PER]: [1, 2, 1, 1, 1, 1, 1, 1, 1, 1, 1, 1, 1, 2, 1, 1, 1, 1, 1, 1, 1, 1, 1, 1, 2, 1, 1, 1, 1, 1, 1, 1, 2, 1, 1, 1, 1, 1, 1, 2, 1, 1, 0, 0, 0, 0, 0, 0, 0, 0, 0, 0, 0, 0, 0, 0, 0, 0, 0, 0, 0, 0, 0, 0, 0, 0, 0, 0, 0, 0, 0, 0, 0, 0, 0, 0, 0, 0, 0, 0, 0, 0, 0, 0, 0, 0, 0, 0, 0, 0, 0, 0, 0, 0, 0, 0, 0, 0, 0, 0, 0, 0, 0, 0, 0, 0, 0, 0, 0, 0, 0, 0, 0, 0, 0, 0, 0, 0, 0, 0, 0, 0, 0, 0, 0, 0]\n",
      "\t[PPOS]: [1, 1, 1, 1, 1, 1, 1, 1, 1, 1, 1, 1, 1, 1, 1, 1, 1, 1, 1, 1, 1, 1, 1, 1, 1, 1, 1, 1, 1, 1, 1, 1, 1, 1, 1, 1, 1, 1, 1, 1, 1, 1, 0, 0, 0, 0, 0, 0, 0, 0, 0, 0, 0, 0, 0, 0, 0, 0, 0, 0, 0, 0, 0, 0, 0, 0, 0, 0, 0, 0, 0, 0, 0, 0, 0, 0, 0, 0, 0, 0, 0, 0, 0, 0, 0, 0, 0, 0, 0, 0, 0, 0, 0, 0, 0, 0, 0, 0, 0, 0, 0, 0, 0, 0, 0, 0, 0, 0, 0, 0, 0, 0, 0, 0, 0, 0, 0, 0, 0, 0, 0, 0, 0, 0, 0, 0]\n",
      "*** Example ***\n",
      "guid: 1\n",
      "tokens: Một chuyến hải xuyên ba nước Malaysia , Singapore , Indonesia vừa được phóng Tuổi thực , để cảm điều mà các thuỷ tàu viễn đã cảm mỗi khi nghe nhắc tới : hải eo Malacca ! ...\n",
      "input_ids: 3 242 550 10317 2121 346 58 1396 4 1462 4 1550 164 11 1948 9475 2927 4 24 4263 184 64 9 4766 356 23644 14 4263 205 26 523 1630 75 27 10317 3680 31357 381 135 3 0 0 0 0 0 0 0 0 0 0 0 0 0 0 0 0 0 0 0 0 0 0 0 0 0 0 0 0 0 0 0 0 0 0 0 0 0 0 0 0 0 0 0 0 0 0 0 0 0 0 0 0 0 0 0 0 0 0 0 0 0 0 0 0 0 0 0 0 0 0 0 0 0 0 0 0 0 0 0 0 0 0 0 0 0 0\n",
      "attention_masks: 1 1 1 1 1 1 1 1 1 1 1 1 1 1 1 1 1 1 1 1 1 1 1 1 1 1 1 1 1 1 1 1 1 1 1 1 1 1 1 1 0 0 0 0 0 0 0 0 0 0 0 0 0 0 0 0 0 0 0 0 0 0 0 0 0 0 0 0 0 0 0 0 0 0 0 0 0 0 0 0 0 0 0 0 0 0 0 0 0 0 0 0 0 0 0 0 0 0 0 0 0 0 0 0 0 0 0 0 0 0 0 0 0 0 0 0 0 0 0 0 0 0 0 0 0 0\n",
      "valid_mask: 0 1 1 1 1 1 1 1 1 1 1 1 1 1 1 1 1 1 1 1 1 1 1 1 1 1 1 1 1 1 1 1 1 1 1 1 1 1 1 0 0 0 0 0 0 0 0 0 0 0 0 0 0 0 0 0 0 0 0 0 0 0 0 0 0 0 0 0 0 0 0 0 0 0 0 0 0 0 0 0 0 0 0 0 0 0 0 0 0 0 0 0 0 0 0 0 0 0 0 0 0 0 0 0 0 0 0 0 0 0 0 0 0 0 0 0 0 0 0 0 0 0 0 0 0 0\n",
      "segment_ids: 0 0 0 0 0 0 0 0 0 0 0 0 0 0 0 0 0 0 0 0 0 0 0 0 0 0 0 0 0 0 0 0 0 0 0 0 0 0 0 0 0 0 0 0 0 0 0 0 0 0 0 0 0 0 0 0 0 0 0 0 0 0 0 0 0 0 0 0 0 0 0 0 0 0 0 0 0 0 0 0 0 0 0 0 0 0 0 0 0 0 0 0 0 0 0 0 0 0 0 0 0 0 0 0 0 0 0 0 0 0 0 0 0 0 0 0 0 0 0 0 0 0 0 0 0 0\n",
      "label: 1 1 1 1 1 1 4 1 4 1 4 1 1 1 1 1 1 1 1 1 1 1 1 1 1 1 1 1 1 1 1 1 1 1 4 5 1 1 0 0 0 0 0 0 0 0 0 0 0 0 0 0 0 0 0 0 0 0 0 0 0 0 0 0 0 0 0 0 0 0 0 0 0 0 0 0 0 0 0 0 0 0 0 0 0 0 0 0 0 0 0 0 0 0 0 0 0 0 0 0 0 0 0 0 0 0 0 0 0 0 0 0 0 0 0 0 0 0 0 0 0 0 0 0 0 0\n",
      "label_mask: 1 1 1 1 1 1 1 1 1 1 1 1 1 1 1 1 1 1 1 1 1 1 1 1 1 1 1 1 1 1 1 1 1 1 1 1 1 1 0 0 0 0 0 0 0 0 0 0 0 0 0 0 0 0 0 0 0 0 0 0 0 0 0 0 0 0 0 0 0 0 0 0 0 0 0 0 0 0 0 0 0 0 0 0 0 0 0 0 0 0 0 0 0 0 0 0 0 0 0 0 0 0 0 0 0 0 0 0 0 0 0 0 0 0 0 0 0 0 0 0 0 0 0 0 0 0\n",
      "feats:\n",
      "\t[Case]: [1, 2, 4, 4, 4, 4, 4, 2, 4, 2, 4, 2, 4, 4, 4, 2, 4, 4, 4, 4, 4, 4, 4, 4, 4, 4, 4, 4, 4, 4, 4, 4, 4, 4, 4, 4, 2, 4, 4, 1, 0, 0, 0, 0, 0, 0, 0, 0, 0, 0, 0, 0, 0, 0, 0, 0, 0, 0, 0, 0, 0, 0, 0, 0, 0, 0, 0, 0, 0, 0, 0, 0, 0, 0, 0, 0, 0, 0, 0, 0, 0, 0, 0, 0, 0, 0, 0, 0, 0, 0, 0, 0, 0, 0, 0, 0, 0, 0, 0, 0, 0, 0, 0, 0, 0, 0, 0, 0, 0, 0, 0, 0, 0, 0, 0, 0, 0, 0, 0, 0, 0, 0, 0, 0, 0, 0]\n",
      "\t[SC]: [2, 3, 1, 3, 3, 3, 2, 3, 5, 3, 5, 3, 1, 3, 2, 3, 1, 3, 3, 3, 3, 3, 3, 3, 3, 3, 3, 3, 3, 3, 3, 3, 3, 3, 3, 2, 3, 1, 3, 2, 0, 0, 0, 0, 0, 0, 0, 0, 0, 0, 0, 0, 0, 0, 0, 0, 0, 0, 0, 0, 0, 0, 0, 0, 0, 0, 0, 0, 0, 0, 0, 0, 0, 0, 0, 0, 0, 0, 0, 0, 0, 0, 0, 0, 0, 0, 0, 0, 0, 0, 0, 0, 0, 0, 0, 0, 0, 0, 0, 0, 0, 0, 0, 0, 0, 0, 0, 0, 0, 0, 0, 0, 0, 0, 0, 0, 0, 0, 0, 0, 0, 0, 0, 0, 0, 0]\n",
      "\t[FW]: [1, 2, 1, 1, 1, 1, 1, 1, 1, 1, 1, 1, 1, 1, 1, 1, 1, 1, 1, 1, 1, 1, 1, 1, 1, 1, 1, 1, 1, 1, 1, 1, 1, 1, 1, 1, 1, 1, 2, 1, 0, 0, 0, 0, 0, 0, 0, 0, 0, 0, 0, 0, 0, 0, 0, 0, 0, 0, 0, 0, 0, 0, 0, 0, 0, 0, 0, 0, 0, 0, 0, 0, 0, 0, 0, 0, 0, 0, 0, 0, 0, 0, 0, 0, 0, 0, 0, 0, 0, 0, 0, 0, 0, 0, 0, 0, 0, 0, 0, 0, 0, 0, 0, 0, 0, 0, 0, 0, 0, 0, 0, 0, 0, 0, 0, 0, 0, 0, 0, 0, 0, 0, 0, 0, 0, 0]\n",
      "\t[QB]: [1, 1, 1, 1, 1, 1, 1, 1, 1, 1, 1, 1, 1, 1, 1, 1, 1, 1, 1, 1, 1, 1, 1, 1, 1, 1, 1, 1, 1, 1, 1, 1, 1, 1, 1, 1, 1, 1, 1, 1, 0, 0, 0, 0, 0, 0, 0, 0, 0, 0, 0, 0, 0, 0, 0, 0, 0, 0, 0, 0, 0, 0, 0, 0, 0, 0, 0, 0, 0, 0, 0, 0, 0, 0, 0, 0, 0, 0, 0, 0, 0, 0, 0, 0, 0, 0, 0, 0, 0, 0, 0, 0, 0, 0, 0, 0, 0, 0, 0, 0, 0, 0, 0, 0, 0, 0, 0, 0, 0, 0, 0, 0, 0, 0, 0, 0, 0, 0, 0, 0, 0, 0, 0, 0, 0, 0]\n",
      "\t[Num]: [1, 2, 1, 1, 1, 2, 1, 1, 1, 1, 1, 1, 1, 1, 1, 1, 1, 1, 1, 1, 1, 1, 1, 1, 1, 1, 1, 1, 1, 1, 1, 1, 1, 1, 1, 1, 1, 1, 1, 1, 0, 0, 0, 0, 0, 0, 0, 0, 0, 0, 0, 0, 0, 0, 0, 0, 0, 0, 0, 0, 0, 0, 0, 0, 0, 0, 0, 0, 0, 0, 0, 0, 0, 0, 0, 0, 0, 0, 0, 0, 0, 0, 0, 0, 0, 0, 0, 0, 0, 0, 0, 0, 0, 0, 0, 0, 0, 0, 0, 0, 0, 0, 0, 0, 0, 0, 0, 0, 0, 0, 0, 0, 0, 0, 0, 0, 0, 0, 0, 0, 0, 0, 0, 0, 0, 0]\n",
      "\t[LOC]: [1, 1, 1, 1, 2, 1, 1, 2, 1, 2, 1, 2, 1, 1, 1, 1, 1, 1, 1, 1, 1, 1, 1, 1, 2, 1, 1, 1, 1, 1, 1, 1, 1, 1, 1, 1, 1, 1, 1, 1, 0, 0, 0, 0, 0, 0, 0, 0, 0, 0, 0, 0, 0, 0, 0, 0, 0, 0, 0, 0, 0, 0, 0, 0, 0, 0, 0, 0, 0, 0, 0, 0, 0, 0, 0, 0, 0, 0, 0, 0, 0, 0, 0, 0, 0, 0, 0, 0, 0, 0, 0, 0, 0, 0, 0, 0, 0, 0, 0, 0, 0, 0, 0, 0, 0, 0, 0, 0, 0, 0, 0, 0, 0, 0, 0, 0, 0, 0, 0, 0, 0, 0, 0, 0, 0, 0]\n",
      "\t[ORG]: [1, 1, 1, 1, 1, 1, 1, 1, 1, 1, 1, 1, 1, 1, 1, 1, 1, 1, 1, 1, 1, 1, 1, 1, 1, 1, 1, 1, 1, 1, 1, 1, 1, 1, 1, 1, 1, 1, 1, 1, 0, 0, 0, 0, 0, 0, 0, 0, 0, 0, 0, 0, 0, 0, 0, 0, 0, 0, 0, 0, 0, 0, 0, 0, 0, 0, 0, 0, 0, 0, 0, 0, 0, 0, 0, 0, 0, 0, 0, 0, 0, 0, 0, 0, 0, 0, 0, 0, 0, 0, 0, 0, 0, 0, 0, 0, 0, 0, 0, 0, 0, 0, 0, 0, 0, 0, 0, 0, 0, 0, 0, 0, 0, 0, 0, 0, 0, 0, 0, 0, 0, 0, 0, 0, 0, 0]\n",
      "\t[PER]: [1, 1, 1, 1, 2, 1, 1, 1, 1, 1, 1, 1, 1, 2, 1, 1, 1, 1, 1, 1, 1, 1, 1, 1, 1, 1, 1, 1, 1, 1, 1, 1, 1, 1, 1, 1, 1, 1, 1, 1, 0, 0, 0, 0, 0, 0, 0, 0, 0, 0, 0, 0, 0, 0, 0, 0, 0, 0, 0, 0, 0, 0, 0, 0, 0, 0, 0, 0, 0, 0, 0, 0, 0, 0, 0, 0, 0, 0, 0, 0, 0, 0, 0, 0, 0, 0, 0, 0, 0, 0, 0, 0, 0, 0, 0, 0, 0, 0, 0, 0, 0, 0, 0, 0, 0, 0, 0, 0, 0, 0, 0, 0, 0, 0, 0, 0, 0, 0, 0, 0, 0, 0, 0, 0, 0, 0]\n",
      "\t[PPOS]: [1, 1, 1, 1, 1, 1, 1, 1, 1, 1, 1, 1, 1, 1, 1, 1, 1, 1, 1, 1, 1, 1, 1, 1, 1, 1, 1, 1, 1, 1, 1, 1, 1, 1, 1, 1, 1, 1, 1, 1, 0, 0, 0, 0, 0, 0, 0, 0, 0, 0, 0, 0, 0, 0, 0, 0, 0, 0, 0, 0, 0, 0, 0, 0, 0, 0, 0, 0, 0, 0, 0, 0, 0, 0, 0, 0, 0, 0, 0, 0, 0, 0, 0, 0, 0, 0, 0, 0, 0, 0, 0, 0, 0, 0, 0, 0, 0, 0, 0, 0, 0, 0, 0, 0, 0, 0, 0, 0, 0, 0, 0, 0, 0, 0, 0, 0, 0, 0, 0, 0, 0, 0, 0, 0, 0, 0]\n",
      "*** Example ***\n",
      "guid: 2\n",
      "tokens: Từ bức điện của IM@@ B ...\n",
      "input_ids: 3 404 711 462 7 10232 1247 135 3 0 0 0 0 0 0 0 0 0 0 0 0 0 0 0 0 0 0 0 0 0 0 0 0 0 0 0 0 0 0 0 0 0 0 0 0 0 0 0 0 0 0 0 0 0 0 0 0 0 0 0 0 0 0 0 0 0 0 0 0 0 0 0 0 0 0 0 0 0 0 0 0 0 0 0 0 0 0 0 0 0 0 0 0 0 0 0 0 0 0 0 0 0 0 0 0 0 0 0 0 0 0 0 0 0 0 0 0 0 0 0 0 0 0 0 0 0\n",
      "attention_masks: 1 1 1 1 1 1 1 1 1 0 0 0 0 0 0 0 0 0 0 0 0 0 0 0 0 0 0 0 0 0 0 0 0 0 0 0 0 0 0 0 0 0 0 0 0 0 0 0 0 0 0 0 0 0 0 0 0 0 0 0 0 0 0 0 0 0 0 0 0 0 0 0 0 0 0 0 0 0 0 0 0 0 0 0 0 0 0 0 0 0 0 0 0 0 0 0 0 0 0 0 0 0 0 0 0 0 0 0 0 0 0 0 0 0 0 0 0 0 0 0 0 0 0 0 0 0\n",
      "valid_mask: 0 1 1 1 1 1 0 1 0 0 0 0 0 0 0 0 0 0 0 0 0 0 0 0 0 0 0 0 0 0 0 0 0 0 0 0 0 0 0 0 0 0 0 0 0 0 0 0 0 0 0 0 0 0 0 0 0 0 0 0 0 0 0 0 0 0 0 0 0 0 0 0 0 0 0 0 0 0 0 0 0 0 0 0 0 0 0 0 0 0 0 0 0 0 0 0 0 0 0 0 0 0 0 0 0 0 0 0 0 0 0 0 0 0 0 0 0 0 0 0 0 0 0 0 0 0\n",
      "segment_ids: 0 0 0 0 0 0 0 0 0 0 0 0 0 0 0 0 0 0 0 0 0 0 0 0 0 0 0 0 0 0 0 0 0 0 0 0 0 0 0 0 0 0 0 0 0 0 0 0 0 0 0 0 0 0 0 0 0 0 0 0 0 0 0 0 0 0 0 0 0 0 0 0 0 0 0 0 0 0 0 0 0 0 0 0 0 0 0 0 0 0 0 0 0 0 0 0 0 0 0 0 0 0 0 0 0 0 0 0 0 0 0 0 0 0 0 0 0 0 0 0 0 0 0 0 0 0\n",
      "label: 1 1 1 1 1 1 1 0 0 0 0 0 0 0 0 0 0 0 0 0 0 0 0 0 0 0 0 0 0 0 0 0 0 0 0 0 0 0 0 0 0 0 0 0 0 0 0 0 0 0 0 0 0 0 0 0 0 0 0 0 0 0 0 0 0 0 0 0 0 0 0 0 0 0 0 0 0 0 0 0 0 0 0 0 0 0 0 0 0 0 0 0 0 0 0 0 0 0 0 0 0 0 0 0 0 0 0 0 0 0 0 0 0 0 0 0 0 0 0 0 0 0 0 0 0 0\n",
      "label_mask: 1 1 1 1 1 1 1 0 0 0 0 0 0 0 0 0 0 0 0 0 0 0 0 0 0 0 0 0 0 0 0 0 0 0 0 0 0 0 0 0 0 0 0 0 0 0 0 0 0 0 0 0 0 0 0 0 0 0 0 0 0 0 0 0 0 0 0 0 0 0 0 0 0 0 0 0 0 0 0 0 0 0 0 0 0 0 0 0 0 0 0 0 0 0 0 0 0 0 0 0 0 0 0 0 0 0 0 0 0 0 0 0 0 0 0 0 0 0 0 0 0 0 0 0 0 0\n",
      "feats:\n",
      "\t[Case]: [1, 2, 4, 4, 4, 1, 0, 4, 1, 0, 0, 0, 0, 0, 0, 0, 0, 0, 0, 0, 0, 0, 0, 0, 0, 0, 0, 0, 0, 0, 0, 0, 0, 0, 0, 0, 0, 0, 0, 0, 0, 0, 0, 0, 0, 0, 0, 0, 0, 0, 0, 0, 0, 0, 0, 0, 0, 0, 0, 0, 0, 0, 0, 0, 0, 0, 0, 0, 0, 0, 0, 0, 0, 0, 0, 0, 0, 0, 0, 0, 0, 0, 0, 0, 0, 0, 0, 0, 0, 0, 0, 0, 0, 0, 0, 0, 0, 0, 0, 0, 0, 0, 0, 0, 0, 0, 0, 0, 0, 0, 0, 0, 0, 0, 0, 0, 0, 0, 0, 0, 0, 0, 0, 0, 0, 0]\n",
      "\t[SC]: [2, 3, 1, 3, 2, 3, 0, 1, 2, 0, 0, 0, 0, 0, 0, 0, 0, 0, 0, 0, 0, 0, 0, 0, 0, 0, 0, 0, 0, 0, 0, 0, 0, 0, 0, 0, 0, 0, 0, 0, 0, 0, 0, 0, 0, 0, 0, 0, 0, 0, 0, 0, 0, 0, 0, 0, 0, 0, 0, 0, 0, 0, 0, 0, 0, 0, 0, 0, 0, 0, 0, 0, 0, 0, 0, 0, 0, 0, 0, 0, 0, 0, 0, 0, 0, 0, 0, 0, 0, 0, 0, 0, 0, 0, 0, 0, 0, 0, 0, 0, 0, 0, 0, 0, 0, 0, 0, 0, 0, 0, 0, 0, 0, 0, 0, 0, 0, 0, 0, 0, 0, 0, 0, 0, 0, 0]\n",
      "\t[FW]: [1, 2, 1, 1, 1, 1, 0, 1, 1, 0, 0, 0, 0, 0, 0, 0, 0, 0, 0, 0, 0, 0, 0, 0, 0, 0, 0, 0, 0, 0, 0, 0, 0, 0, 0, 0, 0, 0, 0, 0, 0, 0, 0, 0, 0, 0, 0, 0, 0, 0, 0, 0, 0, 0, 0, 0, 0, 0, 0, 0, 0, 0, 0, 0, 0, 0, 0, 0, 0, 0, 0, 0, 0, 0, 0, 0, 0, 0, 0, 0, 0, 0, 0, 0, 0, 0, 0, 0, 0, 0, 0, 0, 0, 0, 0, 0, 0, 0, 0, 0, 0, 0, 0, 0, 0, 0, 0, 0, 0, 0, 0, 0, 0, 0, 0, 0, 0, 0, 0, 0, 0, 0, 0, 0, 0, 0]\n",
      "\t[QB]: [1, 1, 1, 1, 1, 1, 0, 1, 1, 0, 0, 0, 0, 0, 0, 0, 0, 0, 0, 0, 0, 0, 0, 0, 0, 0, 0, 0, 0, 0, 0, 0, 0, 0, 0, 0, 0, 0, 0, 0, 0, 0, 0, 0, 0, 0, 0, 0, 0, 0, 0, 0, 0, 0, 0, 0, 0, 0, 0, 0, 0, 0, 0, 0, 0, 0, 0, 0, 0, 0, 0, 0, 0, 0, 0, 0, 0, 0, 0, 0, 0, 0, 0, 0, 0, 0, 0, 0, 0, 0, 0, 0, 0, 0, 0, 0, 0, 0, 0, 0, 0, 0, 0, 0, 0, 0, 0, 0, 0, 0, 0, 0, 0, 0, 0, 0, 0, 0, 0, 0, 0, 0, 0, 0, 0, 0]\n",
      "\t[Num]: [1, 1, 1, 1, 1, 1, 0, 1, 1, 0, 0, 0, 0, 0, 0, 0, 0, 0, 0, 0, 0, 0, 0, 0, 0, 0, 0, 0, 0, 0, 0, 0, 0, 0, 0, 0, 0, 0, 0, 0, 0, 0, 0, 0, 0, 0, 0, 0, 0, 0, 0, 0, 0, 0, 0, 0, 0, 0, 0, 0, 0, 0, 0, 0, 0, 0, 0, 0, 0, 0, 0, 0, 0, 0, 0, 0, 0, 0, 0, 0, 0, 0, 0, 0, 0, 0, 0, 0, 0, 0, 0, 0, 0, 0, 0, 0, 0, 0, 0, 0, 0, 0, 0, 0, 0, 0, 0, 0, 0, 0, 0, 0, 0, 0, 0, 0, 0, 0, 0, 0, 0, 0, 0, 0, 0, 0]\n",
      "\t[LOC]: [1, 1, 1, 1, 1, 1, 0, 1, 1, 0, 0, 0, 0, 0, 0, 0, 0, 0, 0, 0, 0, 0, 0, 0, 0, 0, 0, 0, 0, 0, 0, 0, 0, 0, 0, 0, 0, 0, 0, 0, 0, 0, 0, 0, 0, 0, 0, 0, 0, 0, 0, 0, 0, 0, 0, 0, 0, 0, 0, 0, 0, 0, 0, 0, 0, 0, 0, 0, 0, 0, 0, 0, 0, 0, 0, 0, 0, 0, 0, 0, 0, 0, 0, 0, 0, 0, 0, 0, 0, 0, 0, 0, 0, 0, 0, 0, 0, 0, 0, 0, 0, 0, 0, 0, 0, 0, 0, 0, 0, 0, 0, 0, 0, 0, 0, 0, 0, 0, 0, 0, 0, 0, 0, 0, 0, 0]\n",
      "\t[ORG]: [1, 1, 1, 1, 1, 1, 0, 1, 1, 0, 0, 0, 0, 0, 0, 0, 0, 0, 0, 0, 0, 0, 0, 0, 0, 0, 0, 0, 0, 0, 0, 0, 0, 0, 0, 0, 0, 0, 0, 0, 0, 0, 0, 0, 0, 0, 0, 0, 0, 0, 0, 0, 0, 0, 0, 0, 0, 0, 0, 0, 0, 0, 0, 0, 0, 0, 0, 0, 0, 0, 0, 0, 0, 0, 0, 0, 0, 0, 0, 0, 0, 0, 0, 0, 0, 0, 0, 0, 0, 0, 0, 0, 0, 0, 0, 0, 0, 0, 0, 0, 0, 0, 0, 0, 0, 0, 0, 0, 0, 0, 0, 0, 0, 0, 0, 0, 0, 0, 0, 0, 0, 0, 0, 0, 0, 0]\n",
      "\t[PER]: [1, 1, 1, 1, 1, 1, 0, 1, 1, 0, 0, 0, 0, 0, 0, 0, 0, 0, 0, 0, 0, 0, 0, 0, 0, 0, 0, 0, 0, 0, 0, 0, 0, 0, 0, 0, 0, 0, 0, 0, 0, 0, 0, 0, 0, 0, 0, 0, 0, 0, 0, 0, 0, 0, 0, 0, 0, 0, 0, 0, 0, 0, 0, 0, 0, 0, 0, 0, 0, 0, 0, 0, 0, 0, 0, 0, 0, 0, 0, 0, 0, 0, 0, 0, 0, 0, 0, 0, 0, 0, 0, 0, 0, 0, 0, 0, 0, 0, 0, 0, 0, 0, 0, 0, 0, 0, 0, 0, 0, 0, 0, 0, 0, 0, 0, 0, 0, 0, 0, 0, 0, 0, 0, 0, 0, 0]\n",
      "\t[PPOS]: [1, 1, 1, 1, 1, 1, 0, 1, 1, 0, 0, 0, 0, 0, 0, 0, 0, 0, 0, 0, 0, 0, 0, 0, 0, 0, 0, 0, 0, 0, 0, 0, 0, 0, 0, 0, 0, 0, 0, 0, 0, 0, 0, 0, 0, 0, 0, 0, 0, 0, 0, 0, 0, 0, 0, 0, 0, 0, 0, 0, 0, 0, 0, 0, 0, 0, 0, 0, 0, 0, 0, 0, 0, 0, 0, 0, 0, 0, 0, 0, 0, 0, 0, 0, 0, 0, 0, 0, 0, 0, 0, 0, 0, 0, 0, 0, 0, 0, 0, 0, 0, 0, 0, 0, 0, 0, 0, 0, 0, 0, 0, 0, 0, 0, 0, 0, 0, 0, 0, 0, 0, 0, 0, 0, 0, 0]\n",
      "*** Example ***\n",
      "guid: 3\n",
      "tokens: Chúng lên ngay khi nhận được email của ngài Noel Cho@@ ong - trưởng đại của Cơ Hàng quốc ( IM@@ B ) tại Malaysia - đồng tiếp chúng để cung những thông mới nhất về hải eo Malacca .\n",
      "input_ids: 3 2460 72 249 26 154 11 3838 7 6601 7005 6209 2662 31 676 2919 7 8917 1383 3705 20 10232 1247 19 35 1396 31 80 917 572 24 1820 21 2178 60 67 28 10317 3680 31357 5 3 0 0 0 0 0 0 0 0 0 0 0 0 0 0 0 0 0 0 0 0 0 0 0 0 0 0 0 0 0 0 0 0 0 0 0 0 0 0 0 0 0 0 0 0 0 0 0 0 0 0 0 0 0 0 0 0 0 0 0 0 0 0 0 0 0 0 0 0 0 0 0 0 0 0 0 0 0 0 0 0 0 0 0 0\n",
      "attention_masks: 1 1 1 1 1 1 1 1 1 1 1 1 1 1 1 1 1 1 1 1 1 1 1 1 1 1 1 1 1 1 1 1 1 1 1 1 1 1 1 1 1 1 0 0 0 0 0 0 0 0 0 0 0 0 0 0 0 0 0 0 0 0 0 0 0 0 0 0 0 0 0 0 0 0 0 0 0 0 0 0 0 0 0 0 0 0 0 0 0 0 0 0 0 0 0 0 0 0 0 0 0 0 0 0 0 0 0 0 0 0 0 0 0 0 0 0 0 0 0 0 0 0 0 0 0 0\n",
      "valid_mask: 0 1 1 1 1 1 1 1 1 1 1 1 0 1 1 1 1 1 1 1 1 1 0 1 1 1 1 1 1 1 1 1 1 1 1 1 1 1 1 1 1 0 0 0 0 0 0 0 0 0 0 0 0 0 0 0 0 0 0 0 0 0 0 0 0 0 0 0 0 0 0 0 0 0 0 0 0 0 0 0 0 0 0 0 0 0 0 0 0 0 0 0 0 0 0 0 0 0 0 0 0 0 0 0 0 0 0 0 0 0 0 0 0 0 0 0 0 0 0 0 0 0 0 0 0 0\n",
      "segment_ids: 0 0 0 0 0 0 0 0 0 0 0 0 0 0 0 0 0 0 0 0 0 0 0 0 0 0 0 0 0 0 0 0 0 0 0 0 0 0 0 0 0 0 0 0 0 0 0 0 0 0 0 0 0 0 0 0 0 0 0 0 0 0 0 0 0 0 0 0 0 0 0 0 0 0 0 0 0 0 0 0 0 0 0 0 0 0 0 0 0 0 0 0 0 0 0 0 0 0 0 0 0 0 0 0 0 0 0 0 0 0 0 0 0 0 0 0 0 0 0 0 0 0 0 0 0 0\n",
      "label: 1 1 1 1 1 1 1 1 1 1 1 1 1 1 1 1 1 1 1 1 1 1 1 1 4 1 1 1 1 1 1 1 1 1 1 1 1 4 5 1 0 0 0 0 0 0 0 0 0 0 0 0 0 0 0 0 0 0 0 0 0 0 0 0 0 0 0 0 0 0 0 0 0 0 0 0 0 0 0 0 0 0 0 0 0 0 0 0 0 0 0 0 0 0 0 0 0 0 0 0 0 0 0 0 0 0 0 0 0 0 0 0 0 0 0 0 0 0 0 0 0 0 0 0 0 0\n",
      "label_mask: 1 1 1 1 1 1 1 1 1 1 1 1 1 1 1 1 1 1 1 1 1 1 1 1 1 1 1 1 1 1 1 1 1 1 1 1 1 1 1 1 0 0 0 0 0 0 0 0 0 0 0 0 0 0 0 0 0 0 0 0 0 0 0 0 0 0 0 0 0 0 0 0 0 0 0 0 0 0 0 0 0 0 0 0 0 0 0 0 0 0 0 0 0 0 0 0 0 0 0 0 0 0 0 0 0 0 0 0 0 0 0 0 0 0 0 0 0 0 0 0 0 0 0 0 0 0\n",
      "feats:\n",
      "\t[Case]: [1, 2, 4, 4, 4, 4, 4, 4, 4, 4, 2, 2, 0, 4, 4, 4, 4, 2, 2, 4, 4, 1, 0, 4, 4, 2, 4, 4, 4, 4, 4, 4, 4, 4, 4, 4, 4, 4, 4, 2, 4, 1, 0, 0, 0, 0, 0, 0, 0, 0, 0, 0, 0, 0, 0, 0, 0, 0, 0, 0, 0, 0, 0, 0, 0, 0, 0, 0, 0, 0, 0, 0, 0, 0, 0, 0, 0, 0, 0, 0, 0, 0, 0, 0, 0, 0, 0, 0, 0, 0, 0, 0, 0, 0, 0, 0, 0, 0, 0, 0, 0, 0, 0, 0, 0, 0, 0, 0, 0, 0, 0, 0, 0, 0, 0, 0, 0, 0, 0, 0, 0, 0, 0, 0, 0, 0]\n",
      "\t[SC]: [2, 3, 1, 3, 3, 3, 3, 3, 3, 2, 2, 1, 0, 1, 3, 3, 2, 2, 1, 1, 2, 3, 0, 1, 2, 3, 1, 3, 3, 3, 3, 3, 3, 3, 3, 3, 3, 3, 2, 3, 1, 2, 0, 0, 0, 0, 0, 0, 0, 0, 0, 0, 0, 0, 0, 0, 0, 0, 0, 0, 0, 0, 0, 0, 0, 0, 0, 0, 0, 0, 0, 0, 0, 0, 0, 0, 0, 0, 0, 0, 0, 0, 0, 0, 0, 0, 0, 0, 0, 0, 0, 0, 0, 0, 0, 0, 0, 0, 0, 0, 0, 0, 0, 0, 0, 0, 0, 0, 0, 0, 0, 0, 0, 0, 0, 0, 0, 0, 0, 0, 0, 0, 0, 0, 0, 0]\n",
      "\t[FW]: [1, 2, 1, 1, 1, 1, 1, 1, 1, 1, 1, 1, 0, 1, 1, 1, 1, 1, 1, 1, 1, 1, 0, 1, 1, 1, 1, 1, 1, 1, 1, 1, 1, 1, 1, 1, 1, 1, 1, 1, 1, 1, 0, 0, 0, 0, 0, 0, 0, 0, 0, 0, 0, 0, 0, 0, 0, 0, 0, 0, 0, 0, 0, 0, 0, 0, 0, 0, 0, 0, 0, 0, 0, 0, 0, 0, 0, 0, 0, 0, 0, 0, 0, 0, 0, 0, 0, 0, 0, 0, 0, 0, 0, 0, 0, 0, 0, 0, 0, 0, 0, 0, 0, 0, 0, 0, 0, 0, 0, 0, 0, 0, 0, 0, 0, 0, 0, 0, 0, 0, 0, 0, 0, 0, 0, 0]\n",
      "\t[QB]: [1, 1, 1, 1, 1, 1, 1, 1, 1, 1, 1, 1, 0, 1, 1, 1, 1, 1, 1, 1, 1, 2, 0, 1, 1, 1, 1, 1, 1, 1, 1, 1, 1, 1, 1, 1, 1, 1, 1, 1, 1, 1, 0, 0, 0, 0, 0, 0, 0, 0, 0, 0, 0, 0, 0, 0, 0, 0, 0, 0, 0, 0, 0, 0, 0, 0, 0, 0, 0, 0, 0, 0, 0, 0, 0, 0, 0, 0, 0, 0, 0, 0, 0, 0, 0, 0, 0, 0, 0, 0, 0, 0, 0, 0, 0, 0, 0, 0, 0, 0, 0, 0, 0, 0, 0, 0, 0, 0, 0, 0, 0, 0, 0, 0, 0, 0, 0, 0, 0, 0, 0, 0, 0, 0, 0, 0]\n",
      "\t[Num]: [1, 1, 1, 1, 1, 1, 1, 1, 1, 1, 1, 1, 0, 1, 1, 1, 1, 1, 1, 1, 1, 1, 0, 1, 1, 1, 1, 1, 1, 1, 1, 1, 1, 1, 1, 1, 1, 1, 1, 1, 1, 1, 0, 0, 0, 0, 0, 0, 0, 0, 0, 0, 0, 0, 0, 0, 0, 0, 0, 0, 0, 0, 0, 0, 0, 0, 0, 0, 0, 0, 0, 0, 0, 0, 0, 0, 0, 0, 0, 0, 0, 0, 0, 0, 0, 0, 0, 0, 0, 0, 0, 0, 0, 0, 0, 0, 0, 0, 0, 0, 0, 0, 0, 0, 0, 0, 0, 0, 0, 0, 0, 0, 0, 0, 0, 0, 0, 0, 0, 0, 0, 0, 0, 0, 0, 0]\n",
      "\t[LOC]: [1, 1, 1, 1, 1, 1, 1, 1, 1, 1, 1, 1, 0, 1, 1, 1, 1, 1, 1, 1, 1, 1, 0, 1, 1, 2, 1, 1, 1, 1, 1, 1, 1, 1, 1, 1, 1, 1, 1, 1, 1, 1, 0, 0, 0, 0, 0, 0, 0, 0, 0, 0, 0, 0, 0, 0, 0, 0, 0, 0, 0, 0, 0, 0, 0, 0, 0, 0, 0, 0, 0, 0, 0, 0, 0, 0, 0, 0, 0, 0, 0, 0, 0, 0, 0, 0, 0, 0, 0, 0, 0, 0, 0, 0, 0, 0, 0, 0, 0, 0, 0, 0, 0, 0, 0, 0, 0, 0, 0, 0, 0, 0, 0, 0, 0, 0, 0, 0, 0, 0, 0, 0, 0, 0, 0, 0]\n",
      "\t[ORG]: [1, 1, 1, 1, 1, 1, 1, 1, 1, 1, 1, 1, 0, 1, 1, 1, 1, 1, 1, 1, 1, 1, 0, 1, 1, 1, 1, 1, 1, 1, 1, 1, 1, 1, 1, 1, 1, 1, 1, 1, 1, 1, 0, 0, 0, 0, 0, 0, 0, 0, 0, 0, 0, 0, 0, 0, 0, 0, 0, 0, 0, 0, 0, 0, 0, 0, 0, 0, 0, 0, 0, 0, 0, 0, 0, 0, 0, 0, 0, 0, 0, 0, 0, 0, 0, 0, 0, 0, 0, 0, 0, 0, 0, 0, 0, 0, 0, 0, 0, 0, 0, 0, 0, 0, 0, 0, 0, 0, 0, 0, 0, 0, 0, 0, 0, 0, 0, 0, 0, 0, 0, 0, 0, 0, 0, 0]\n",
      "\t[PER]: [1, 1, 1, 1, 1, 1, 2, 1, 1, 1, 2, 1, 0, 1, 1, 1, 1, 1, 1, 1, 1, 1, 0, 1, 1, 1, 1, 2, 1, 1, 1, 1, 1, 2, 1, 1, 1, 1, 1, 1, 1, 1, 0, 0, 0, 0, 0, 0, 0, 0, 0, 0, 0, 0, 0, 0, 0, 0, 0, 0, 0, 0, 0, 0, 0, 0, 0, 0, 0, 0, 0, 0, 0, 0, 0, 0, 0, 0, 0, 0, 0, 0, 0, 0, 0, 0, 0, 0, 0, 0, 0, 0, 0, 0, 0, 0, 0, 0, 0, 0, 0, 0, 0, 0, 0, 0, 0, 0, 0, 0, 0, 0, 0, 0, 0, 0, 0, 0, 0, 0, 0, 0, 0, 0, 0, 0]\n",
      "\t[PPOS]: [1, 1, 1, 1, 1, 1, 1, 1, 1, 1, 1, 1, 0, 1, 1, 1, 1, 1, 1, 1, 1, 1, 0, 1, 1, 1, 1, 1, 1, 1, 1, 1, 1, 1, 1, 1, 1, 1, 1, 1, 1, 1, 0, 0, 0, 0, 0, 0, 0, 0, 0, 0, 0, 0, 0, 0, 0, 0, 0, 0, 0, 0, 0, 0, 0, 0, 0, 0, 0, 0, 0, 0, 0, 0, 0, 0, 0, 0, 0, 0, 0, 0, 0, 0, 0, 0, 0, 0, 0, 0, 0, 0, 0, 0, 0, 0, 0, 0, 0, 0, 0, 0, 0, 0, 0, 0, 0, 0, 0, 0, 0, 0, 0, 0, 0, 0, 0, 0, 0, 0, 0, 0, 0, 0, 0, 0]\n",
      "*** Example ***\n",
      "guid: 4\n",
      "tokens: Ông còn nhấn trong thư : “ Phải hết cẩn vì hiện hải đã biến như một lực khủng , hãy đến ngay văn của IM@@ B , đừng đến những nơi nhạy ... ” .\n",
      "input_ids: 3 168 50 2631 12 1734 27 556 2744 351 28038 90 380 10317 14 1188 42 16 2792 2544 4 852 30 249 2958 7 10232 1247 4 1532 30 21 189 15637 135 564 5 3 0 0 0 0 0 0 0 0 0 0 0 0 0 0 0 0 0 0 0 0 0 0 0 0 0 0 0 0 0 0 0 0 0 0 0 0 0 0 0 0 0 0 0 0 0 0 0 0 0 0 0 0 0 0 0 0 0 0 0 0 0 0 0 0 0 0 0 0 0 0 0 0 0 0 0 0 0 0 0 0 0 0 0 0 0 0 0 0\n",
      "attention_masks: 1 1 1 1 1 1 1 1 1 1 1 1 1 1 1 1 1 1 1 1 1 1 1 1 1 1 1 1 1 1 1 1 1 1 1 1 1 1 0 0 0 0 0 0 0 0 0 0 0 0 0 0 0 0 0 0 0 0 0 0 0 0 0 0 0 0 0 0 0 0 0 0 0 0 0 0 0 0 0 0 0 0 0 0 0 0 0 0 0 0 0 0 0 0 0 0 0 0 0 0 0 0 0 0 0 0 0 0 0 0 0 0 0 0 0 0 0 0 0 0 0 0 0 0 0 0\n",
      "valid_mask: 0 1 1 1 1 1 1 1 1 1 1 1 1 1 1 1 1 1 1 1 1 1 1 1 1 1 1 0 1 1 1 1 1 1 1 1 1 0 0 0 0 0 0 0 0 0 0 0 0 0 0 0 0 0 0 0 0 0 0 0 0 0 0 0 0 0 0 0 0 0 0 0 0 0 0 0 0 0 0 0 0 0 0 0 0 0 0 0 0 0 0 0 0 0 0 0 0 0 0 0 0 0 0 0 0 0 0 0 0 0 0 0 0 0 0 0 0 0 0 0 0 0 0 0 0 0\n",
      "segment_ids: 0 0 0 0 0 0 0 0 0 0 0 0 0 0 0 0 0 0 0 0 0 0 0 0 0 0 0 0 0 0 0 0 0 0 0 0 0 0 0 0 0 0 0 0 0 0 0 0 0 0 0 0 0 0 0 0 0 0 0 0 0 0 0 0 0 0 0 0 0 0 0 0 0 0 0 0 0 0 0 0 0 0 0 0 0 0 0 0 0 0 0 0 0 0 0 0 0 0 0 0 0 0 0 0 0 0 0 0 0 0 0 0 0 0 0 0 0 0 0 0 0 0 0 0 0 0\n",
      "label: 1 1 1 1 1 1 1 1 1 1 1 1 1 1 1 1 1 1 1 1 1 1 1 1 1 1 1 1 1 1 1 1 1 1 1 1 0 0 0 0 0 0 0 0 0 0 0 0 0 0 0 0 0 0 0 0 0 0 0 0 0 0 0 0 0 0 0 0 0 0 0 0 0 0 0 0 0 0 0 0 0 0 0 0 0 0 0 0 0 0 0 0 0 0 0 0 0 0 0 0 0 0 0 0 0 0 0 0 0 0 0 0 0 0 0 0 0 0 0 0 0 0 0 0 0 0\n",
      "label_mask: 1 1 1 1 1 1 1 1 1 1 1 1 1 1 1 1 1 1 1 1 1 1 1 1 1 1 1 1 1 1 1 1 1 1 1 1 0 0 0 0 0 0 0 0 0 0 0 0 0 0 0 0 0 0 0 0 0 0 0 0 0 0 0 0 0 0 0 0 0 0 0 0 0 0 0 0 0 0 0 0 0 0 0 0 0 0 0 0 0 0 0 0 0 0 0 0 0 0 0 0 0 0 0 0 0 0 0 0 0 0 0 0 0 0 0 0 0 0 0 0 0 0 0 0 0 0\n",
      "feats:\n",
      "\t[Case]: [1, 2, 4, 4, 4, 4, 4, 4, 2, 4, 4, 4, 4, 4, 4, 4, 4, 4, 4, 4, 4, 4, 4, 4, 4, 4, 1, 0, 4, 4, 4, 4, 4, 4, 4, 4, 4, 1, 0, 0, 0, 0, 0, 0, 0, 0, 0, 0, 0, 0, 0, 0, 0, 0, 0, 0, 0, 0, 0, 0, 0, 0, 0, 0, 0, 0, 0, 0, 0, 0, 0, 0, 0, 0, 0, 0, 0, 0, 0, 0, 0, 0, 0, 0, 0, 0, 0, 0, 0, 0, 0, 0, 0, 0, 0, 0, 0, 0, 0, 0, 0, 0, 0, 0, 0, 0, 0, 0, 0, 0, 0, 0, 0, 0, 0, 0, 0, 0, 0, 0, 0, 0, 0, 0, 0, 0]\n",
      "\t[SC]: [2, 3, 1, 3, 3, 3, 3, 2, 3, 1, 3, 3, 3, 3, 3, 3, 3, 3, 3, 3, 3, 3, 3, 3, 3, 2, 3, 0, 1, 3, 3, 3, 3, 3, 3, 3, 3, 2, 0, 0, 0, 0, 0, 0, 0, 0, 0, 0, 0, 0, 0, 0, 0, 0, 0, 0, 0, 0, 0, 0, 0, 0, 0, 0, 0, 0, 0, 0, 0, 0, 0, 0, 0, 0, 0, 0, 0, 0, 0, 0, 0, 0, 0, 0, 0, 0, 0, 0, 0, 0, 0, 0, 0, 0, 0, 0, 0, 0, 0, 0, 0, 0, 0, 0, 0, 0, 0, 0, 0, 0, 0, 0, 0, 0, 0, 0, 0, 0, 0, 0, 0, 0, 0, 0, 0, 0]\n",
      "\t[FW]: [1, 2, 1, 1, 1, 1, 1, 1, 1, 1, 1, 1, 1, 1, 1, 1, 1, 1, 1, 1, 1, 1, 1, 1, 1, 1, 1, 0, 1, 1, 1, 1, 1, 1, 1, 2, 1, 1, 0, 0, 0, 0, 0, 0, 0, 0, 0, 0, 0, 0, 0, 0, 0, 0, 0, 0, 0, 0, 0, 0, 0, 0, 0, 0, 0, 0, 0, 0, 0, 0, 0, 0, 0, 0, 0, 0, 0, 0, 0, 0, 0, 0, 0, 0, 0, 0, 0, 0, 0, 0, 0, 0, 0, 0, 0, 0, 0, 0, 0, 0, 0, 0, 0, 0, 0, 0, 0, 0, 0, 0, 0, 0, 0, 0, 0, 0, 0, 0, 0, 0, 0, 0, 0, 0, 0, 0]\n",
      "\t[QB]: [1, 1, 1, 1, 1, 1, 1, 1, 2, 2, 2, 2, 2, 2, 2, 2, 2, 2, 2, 2, 2, 2, 2, 2, 2, 2, 2, 0, 2, 2, 2, 2, 2, 2, 2, 1, 1, 1, 0, 0, 0, 0, 0, 0, 0, 0, 0, 0, 0, 0, 0, 0, 0, 0, 0, 0, 0, 0, 0, 0, 0, 0, 0, 0, 0, 0, 0, 0, 0, 0, 0, 0, 0, 0, 0, 0, 0, 0, 0, 0, 0, 0, 0, 0, 0, 0, 0, 0, 0, 0, 0, 0, 0, 0, 0, 0, 0, 0, 0, 0, 0, 0, 0, 0, 0, 0, 0, 0, 0, 0, 0, 0, 0, 0, 0, 0, 0, 0, 0, 0, 0, 0, 0, 0, 0, 0]\n",
      "\t[Num]: [1, 1, 1, 1, 1, 1, 1, 1, 1, 1, 1, 1, 1, 1, 1, 1, 1, 2, 1, 1, 1, 1, 1, 1, 1, 1, 1, 0, 1, 1, 1, 1, 1, 1, 1, 1, 1, 1, 0, 0, 0, 0, 0, 0, 0, 0, 0, 0, 0, 0, 0, 0, 0, 0, 0, 0, 0, 0, 0, 0, 0, 0, 0, 0, 0, 0, 0, 0, 0, 0, 0, 0, 0, 0, 0, 0, 0, 0, 0, 0, 0, 0, 0, 0, 0, 0, 0, 0, 0, 0, 0, 0, 0, 0, 0, 0, 0, 0, 0, 0, 0, 0, 0, 0, 0, 0, 0, 0, 0, 0, 0, 0, 0, 0, 0, 0, 0, 0, 0, 0, 0, 0, 0, 0, 0, 0]\n",
      "\t[LOC]: [1, 1, 1, 1, 1, 1, 1, 1, 1, 1, 1, 1, 1, 1, 1, 1, 1, 1, 1, 1, 1, 1, 1, 1, 1, 1, 1, 0, 1, 1, 1, 1, 1, 1, 1, 1, 1, 1, 0, 0, 0, 0, 0, 0, 0, 0, 0, 0, 0, 0, 0, 0, 0, 0, 0, 0, 0, 0, 0, 0, 0, 0, 0, 0, 0, 0, 0, 0, 0, 0, 0, 0, 0, 0, 0, 0, 0, 0, 0, 0, 0, 0, 0, 0, 0, 0, 0, 0, 0, 0, 0, 0, 0, 0, 0, 0, 0, 0, 0, 0, 0, 0, 0, 0, 0, 0, 0, 0, 0, 0, 0, 0, 0, 0, 0, 0, 0, 0, 0, 0, 0, 0, 0, 0, 0, 0]\n",
      "\t[ORG]: [1, 1, 1, 1, 1, 1, 1, 1, 1, 1, 1, 1, 1, 1, 1, 1, 1, 1, 1, 1, 1, 1, 1, 1, 1, 1, 1, 0, 1, 1, 1, 1, 1, 1, 1, 2, 1, 1, 0, 0, 0, 0, 0, 0, 0, 0, 0, 0, 0, 0, 0, 0, 0, 0, 0, 0, 0, 0, 0, 0, 0, 0, 0, 0, 0, 0, 0, 0, 0, 0, 0, 0, 0, 0, 0, 0, 0, 0, 0, 0, 0, 0, 0, 0, 0, 0, 0, 0, 0, 0, 0, 0, 0, 0, 0, 0, 0, 0, 0, 0, 0, 0, 0, 0, 0, 0, 0, 0, 0, 0, 0, 0, 0, 0, 0, 0, 0, 0, 0, 0, 0, 0, 0, 0, 0, 0]\n",
      "\t[PER]: [1, 1, 1, 1, 1, 2, 1, 1, 1, 1, 1, 1, 1, 1, 1, 1, 2, 1, 2, 1, 1, 1, 1, 1, 1, 1, 1, 0, 1, 1, 1, 1, 1, 1, 1, 1, 1, 1, 0, 0, 0, 0, 0, 0, 0, 0, 0, 0, 0, 0, 0, 0, 0, 0, 0, 0, 0, 0, 0, 0, 0, 0, 0, 0, 0, 0, 0, 0, 0, 0, 0, 0, 0, 0, 0, 0, 0, 0, 0, 0, 0, 0, 0, 0, 0, 0, 0, 0, 0, 0, 0, 0, 0, 0, 0, 0, 0, 0, 0, 0, 0, 0, 0, 0, 0, 0, 0, 0, 0, 0, 0, 0, 0, 0, 0, 0, 0, 0, 0, 0, 0, 0, 0, 0, 0, 0]\n",
      "\t[PPOS]: [1, 1, 1, 1, 1, 1, 1, 1, 1, 1, 1, 1, 1, 1, 1, 1, 1, 1, 1, 1, 1, 1, 1, 1, 1, 1, 1, 0, 1, 1, 1, 1, 1, 1, 1, 1, 1, 1, 0, 0, 0, 0, 0, 0, 0, 0, 0, 0, 0, 0, 0, 0, 0, 0, 0, 0, 0, 0, 0, 0, 0, 0, 0, 0, 0, 0, 0, 0, 0, 0, 0, 0, 0, 0, 0, 0, 0, 0, 0, 0, 0, 0, 0, 0, 0, 0, 0, 0, 0, 0, 0, 0, 0, 0, 0, 0, 0, 0, 0, 0, 0, 0, 0, 0, 0, 0, 0, 0, 0, 0, 0, 0, 0, 0, 0, 0, 0, 0, 0, 0, 0, 0, 0, 0, 0, 0]\n"
     ]
    },
    {
     "name": "stderr",
     "output_type": "stream",
     "text": [
      "  7%|▋         | 614/8703 [00:00<00:08, 988.47it/s] \n"
     ]
    },
    {
     "ename": "KeyboardInterrupt",
     "evalue": "",
     "output_type": "error",
     "traceback": [
      "\u001b[0;31m---------------------------------------------------------------------------\u001b[0m",
      "\u001b[0;31mKeyboardInterrupt\u001b[0m                         Traceback (most recent call last)",
      "\u001b[0;32m<ipython-input-120-7e0cd2f1a467>\u001b[0m in \u001b[0;36m<module>\u001b[0;34m\u001b[0m\n\u001b[1;32m      5\u001b[0m \u001b[0mfe\u001b[0m \u001b[0;34m=\u001b[0m \u001b[0mFeature\u001b[0m\u001b[0;34m(\u001b[0m\u001b[0;34m\"/home/tuenguyen/Desktop/24mar2021/task_nlp/join_task_gender_department/resources/features/feature_config.json\"\u001b[0m\u001b[0;34m)\u001b[0m\u001b[0;34m\u001b[0m\u001b[0;34m\u001b[0m\u001b[0m\n\u001b[1;32m      6\u001b[0m \u001b[0;31m# fe.special_token['[CLS]'] = fe.special_token['[CLS]'][1:]\u001b[0m\u001b[0;34m\u001b[0m\u001b[0;34m\u001b[0m\u001b[0;34m\u001b[0m\u001b[0m\n\u001b[0;32m----> 7\u001b[0;31m \u001b[0mfeatures\u001b[0m \u001b[0;34m=\u001b[0m \u001b[0mprocessor\u001b[0m\u001b[0;34m.\u001b[0m\u001b[0mconvert_examples_to_features\u001b[0m\u001b[0;34m(\u001b[0m\u001b[0ma\u001b[0m\u001b[0;34m,\u001b[0m \u001b[0;36m126\u001b[0m\u001b[0;34m,\u001b[0m\u001b[0mfe\u001b[0m\u001b[0;34m)\u001b[0m\u001b[0;34m\u001b[0m\u001b[0;34m\u001b[0m\u001b[0m\n\u001b[0m\u001b[1;32m      8\u001b[0m \u001b[0mprint\u001b[0m\u001b[0;34m(\u001b[0m\u001b[0mfeatures\u001b[0m\u001b[0;34m)\u001b[0m\u001b[0;34m\u001b[0m\u001b[0;34m\u001b[0m\u001b[0m\n",
      "\u001b[0;32m~/Desktop/24mar2021/task_nlp/join_task_gender_department/preprocess/processcer_join_bert.py\u001b[0m in \u001b[0;36mconvert_examples_to_features\u001b[0;34m(self, examples, max_seq_length, feature)\u001b[0m\n\u001b[1;32m     89\u001b[0m             \u001b[0mlabel_ids\u001b[0m \u001b[0;34m=\u001b[0m \u001b[0;34m[\u001b[0m\u001b[0;34m]\u001b[0m\u001b[0;34m\u001b[0m\u001b[0;34m\u001b[0m\u001b[0m\n\u001b[1;32m     90\u001b[0m             \u001b[0;32mfor\u001b[0m \u001b[0mi\u001b[0m\u001b[0;34m,\u001b[0m \u001b[0;34m(\u001b[0m\u001b[0mword\u001b[0m\u001b[0;34m,\u001b[0m \u001b[0mlabel\u001b[0m\u001b[0;34m)\u001b[0m \u001b[0;32min\u001b[0m \u001b[0menumerate\u001b[0m\u001b[0;34m(\u001b[0m\u001b[0mzip\u001b[0m\u001b[0;34m(\u001b[0m\u001b[0mex_words\u001b[0m\u001b[0;34m,\u001b[0m \u001b[0mex_labels\u001b[0m\u001b[0;34m)\u001b[0m\u001b[0;34m)\u001b[0m\u001b[0;34m:\u001b[0m\u001b[0;34m\u001b[0m\u001b[0;34m\u001b[0m\u001b[0m\n\u001b[0;32m---> 91\u001b[0;31m                 \u001b[0mtoken\u001b[0m \u001b[0;34m=\u001b[0m \u001b[0mself\u001b[0m\u001b[0;34m.\u001b[0m\u001b[0mtokenizer\u001b[0m\u001b[0;34m.\u001b[0m\u001b[0mtokenize\u001b[0m\u001b[0;34m(\u001b[0m\u001b[0mword\u001b[0m\u001b[0;34m)\u001b[0m\u001b[0;34m\u001b[0m\u001b[0;34m\u001b[0m\u001b[0m\n\u001b[0m\u001b[1;32m     92\u001b[0m                 \u001b[0mtokens\u001b[0m\u001b[0;34m.\u001b[0m\u001b[0mextend\u001b[0m\u001b[0;34m(\u001b[0m\u001b[0mtoken\u001b[0m\u001b[0;34m)\u001b[0m\u001b[0;34m\u001b[0m\u001b[0;34m\u001b[0m\u001b[0m\n\u001b[1;32m     93\u001b[0m                 \u001b[0;32mfor\u001b[0m \u001b[0mm\u001b[0m \u001b[0;32min\u001b[0m \u001b[0mrange\u001b[0m\u001b[0;34m(\u001b[0m\u001b[0mlen\u001b[0m\u001b[0;34m(\u001b[0m\u001b[0mtoken\u001b[0m\u001b[0;34m)\u001b[0m\u001b[0;34m)\u001b[0m\u001b[0;34m:\u001b[0m\u001b[0;34m\u001b[0m\u001b[0;34m\u001b[0m\u001b[0m\n",
      "\u001b[0;32m~/.local/lib/python3.8/site-packages/transformers/tokenization_utils.py\u001b[0m in \u001b[0;36mtokenize\u001b[0;34m(self, text, **kwargs)\u001b[0m\n\u001b[1;32m    350\u001b[0m \u001b[0;34m\u001b[0m\u001b[0m\n\u001b[1;32m    351\u001b[0m         \u001b[0mno_split_token\u001b[0m \u001b[0;34m=\u001b[0m \u001b[0mself\u001b[0m\u001b[0;34m.\u001b[0m\u001b[0munique_no_split_tokens\u001b[0m\u001b[0;34m\u001b[0m\u001b[0;34m\u001b[0m\u001b[0m\n\u001b[0;32m--> 352\u001b[0;31m         \u001b[0mtokenized_text\u001b[0m \u001b[0;34m=\u001b[0m \u001b[0msplit_on_tokens\u001b[0m\u001b[0;34m(\u001b[0m\u001b[0mno_split_token\u001b[0m\u001b[0;34m,\u001b[0m \u001b[0mtext\u001b[0m\u001b[0;34m)\u001b[0m\u001b[0;34m\u001b[0m\u001b[0;34m\u001b[0m\u001b[0m\n\u001b[0m\u001b[1;32m    353\u001b[0m         \u001b[0;32mreturn\u001b[0m \u001b[0mtokenized_text\u001b[0m\u001b[0;34m\u001b[0m\u001b[0;34m\u001b[0m\u001b[0m\n\u001b[1;32m    354\u001b[0m \u001b[0;34m\u001b[0m\u001b[0m\n",
      "\u001b[0;32m~/.local/lib/python3.8/site-packages/transformers/tokenization_utils.py\u001b[0m in \u001b[0;36msplit_on_tokens\u001b[0;34m(tok_list, text)\u001b[0m\n\u001b[1;32m    340\u001b[0m                 \u001b[0mtext_list\u001b[0m \u001b[0;34m=\u001b[0m \u001b[0mtokenized_text\u001b[0m\u001b[0;34m\u001b[0m\u001b[0;34m\u001b[0m\u001b[0m\n\u001b[1;32m    341\u001b[0m \u001b[0;34m\u001b[0m\u001b[0m\n\u001b[0;32m--> 342\u001b[0;31m             return list(\n\u001b[0m\u001b[1;32m    343\u001b[0m                 itertools.chain.from_iterable(\n\u001b[1;32m    344\u001b[0m                     (\n",
      "\u001b[0;32m~/.local/lib/python3.8/site-packages/transformers/tokenization_utils.py\u001b[0m in \u001b[0;36m<genexpr>\u001b[0;34m(.0)\u001b[0m\n\u001b[1;32m    343\u001b[0m                 itertools.chain.from_iterable(\n\u001b[1;32m    344\u001b[0m                     (\n\u001b[0;32m--> 345\u001b[0;31m                         \u001b[0mself\u001b[0m\u001b[0;34m.\u001b[0m\u001b[0m_tokenize\u001b[0m\u001b[0;34m(\u001b[0m\u001b[0mtoken\u001b[0m\u001b[0;34m)\u001b[0m \u001b[0;32mif\u001b[0m \u001b[0mtoken\u001b[0m \u001b[0;32mnot\u001b[0m \u001b[0;32min\u001b[0m \u001b[0mself\u001b[0m\u001b[0;34m.\u001b[0m\u001b[0munique_no_split_tokens\u001b[0m \u001b[0;32melse\u001b[0m \u001b[0;34m[\u001b[0m\u001b[0mtoken\u001b[0m\u001b[0;34m]\u001b[0m\u001b[0;34m\u001b[0m\u001b[0;34m\u001b[0m\u001b[0m\n\u001b[0m\u001b[1;32m    346\u001b[0m                         \u001b[0;32mfor\u001b[0m \u001b[0mtoken\u001b[0m \u001b[0;32min\u001b[0m \u001b[0mtokenized_text\u001b[0m\u001b[0;34m\u001b[0m\u001b[0;34m\u001b[0m\u001b[0m\n\u001b[1;32m    347\u001b[0m                     )\n",
      "\u001b[0;32m~/.local/lib/python3.8/site-packages/transformers/tokenization_phobert.py\u001b[0m in \u001b[0;36m_tokenize\u001b[0;34m(self, text)\u001b[0m\n\u001b[1;32m    292\u001b[0m         \u001b[0msplit_tokens\u001b[0m \u001b[0;34m=\u001b[0m \u001b[0;34m[\u001b[0m\u001b[0;34m]\u001b[0m\u001b[0;34m\u001b[0m\u001b[0;34m\u001b[0m\u001b[0m\n\u001b[1;32m    293\u001b[0m \u001b[0;34m\u001b[0m\u001b[0m\n\u001b[0;32m--> 294\u001b[0;31m         \u001b[0mwords\u001b[0m \u001b[0;34m=\u001b[0m \u001b[0mre\u001b[0m\u001b[0;34m.\u001b[0m\u001b[0mfindall\u001b[0m\u001b[0;34m(\u001b[0m\u001b[0;34mr\"\\S+\\n?\"\u001b[0m\u001b[0;34m,\u001b[0m \u001b[0mtext\u001b[0m\u001b[0;34m)\u001b[0m\u001b[0;34m\u001b[0m\u001b[0;34m\u001b[0m\u001b[0m\n\u001b[0m\u001b[1;32m    295\u001b[0m \u001b[0;34m\u001b[0m\u001b[0m\n\u001b[1;32m    296\u001b[0m         \u001b[0;32mfor\u001b[0m \u001b[0mtoken\u001b[0m \u001b[0;32min\u001b[0m \u001b[0mwords\u001b[0m\u001b[0;34m:\u001b[0m\u001b[0;34m\u001b[0m\u001b[0;34m\u001b[0m\u001b[0m\n",
      "\u001b[0;32m/usr/lib/python3.8/re.py\u001b[0m in \u001b[0;36mfindall\u001b[0;34m(pattern, string, flags)\u001b[0m\n\u001b[1;32m    239\u001b[0m \u001b[0;34m\u001b[0m\u001b[0m\n\u001b[1;32m    240\u001b[0m     Empty matches are included in the result.\"\"\"\n\u001b[0;32m--> 241\u001b[0;31m     \u001b[0;32mreturn\u001b[0m \u001b[0m_compile\u001b[0m\u001b[0;34m(\u001b[0m\u001b[0mpattern\u001b[0m\u001b[0;34m,\u001b[0m \u001b[0mflags\u001b[0m\u001b[0;34m)\u001b[0m\u001b[0;34m.\u001b[0m\u001b[0mfindall\u001b[0m\u001b[0;34m(\u001b[0m\u001b[0mstring\u001b[0m\u001b[0;34m)\u001b[0m\u001b[0;34m\u001b[0m\u001b[0;34m\u001b[0m\u001b[0m\n\u001b[0m\u001b[1;32m    242\u001b[0m \u001b[0;34m\u001b[0m\u001b[0m\n\u001b[1;32m    243\u001b[0m \u001b[0;32mdef\u001b[0m \u001b[0mfinditer\u001b[0m\u001b[0;34m(\u001b[0m\u001b[0mpattern\u001b[0m\u001b[0;34m,\u001b[0m \u001b[0mstring\u001b[0m\u001b[0;34m,\u001b[0m \u001b[0mflags\u001b[0m\u001b[0;34m=\u001b[0m\u001b[0;36m0\u001b[0m\u001b[0;34m)\u001b[0m\u001b[0;34m:\u001b[0m\u001b[0;34m\u001b[0m\u001b[0;34m\u001b[0m\u001b[0m\n",
      "\u001b[0;31mKeyboardInterrupt\u001b[0m: "
     ]
    }
   ],
   "source": [
    "processor = NERProcessor(\"./dataset\", tokenizer)\n",
    "processor.labels=[\"O\",'B-GENDER','I-GENDER','B-LOC','I-LOC']\n",
    "processor.label_map= {label: i for i, label in enumerate(processor.labels, 1)}\n",
    "a = processor.get_example(\"train\",use_feats=True)\n",
    "fe = Feature(\"/home/tuenguyen/Desktop/24mar2021/task_nlp/join_task_gender_department/resources/features/feature_config.json\")\n",
    "# fe.special_token['[CLS]'] = fe.special_token['[CLS]'][1:]\n",
    "features = processor.convert_examples_to_features(a, 126,fe)\n",
    "print(features)"
   ]
  },
  {
   "cell_type": "code",
   "execution_count": 66,
   "id": "ed721dc2",
   "metadata": {},
   "outputs": [
    {
     "data": {
      "text/plain": [
       "{'O': 1, 'B-GENDER': 2, 'I-GENDER': 3, 'B-LOC': 4, 'I-LOC': 5}"
      ]
     },
     "execution_count": 66,
     "metadata": {},
     "output_type": "execute_result"
    }
   ],
   "source": [
    "processor.label_map"
   ]
  },
  {
   "cell_type": "code",
   "execution_count": 67,
   "id": "4fd5d0cb",
   "metadata": {},
   "outputs": [],
   "source": [
    "# fe.feature_infos[\"[PPOS]\"]['label'].index(\"0\")"
   ]
  },
  {
   "cell_type": "code",
   "execution_count": 68,
   "id": "3e8f5d9f",
   "metadata": {},
   "outputs": [
    {
     "data": {
      "text/plain": [
       "[['[POS]', 'CH'],\n",
       " ['[Case]', 'A_Cap'],\n",
       " ['[SC]', 'Pos_Cap'],\n",
       " ['[FW]', '0'],\n",
       " ['[QB]', '0'],\n",
       " ['[Num]', '0'],\n",
       " ['[LOC]', '0'],\n",
       " ['[ORG]', '0'],\n",
       " ['[PER]', '0'],\n",
       " ['[PPOS]', '0']]"
      ]
     },
     "execution_count": 68,
     "metadata": {},
     "output_type": "execute_result"
    }
   ],
   "source": [
    "fe.special_token['[CLS]'] "
   ]
  },
  {
   "cell_type": "code",
   "execution_count": 69,
   "id": "1eac2f92",
   "metadata": {},
   "outputs": [],
   "source": [
    "# a[0]"
   ]
  },
  {
   "cell_type": "code",
   "execution_count": 70,
   "id": "3ee70833",
   "metadata": {},
   "outputs": [
    {
     "data": {
      "text/plain": [
       "(['Đồng_thời',\n",
       "  ',',\n",
       "  'bệnh_viện',\n",
       "  'tiếp_tục',\n",
       "  'thực_hiện',\n",
       "  'các',\n",
       "  'biện_pháp',\n",
       "  'phòng_chống',\n",
       "  'dịch_bệnh',\n",
       "  'COVID',\n",
       "  '-',\n",
       "  '19',\n",
       "  'theo',\n",
       "  'hướng_dẫn',\n",
       "  'của',\n",
       "  'Bộ',\n",
       "  'Y_tế',\n",
       "  '.'],\n",
       " 'đồng_thời')"
      ]
     },
     "execution_count": 70,
     "metadata": {},
     "output_type": "execute_result"
    }
   ],
   "source": [
    "a[0][1],a[0][1][0].lower()"
   ]
  },
  {
   "cell_type": "code",
   "execution_count": 71,
   "id": "42c97a80",
   "metadata": {},
   "outputs": [
    {
     "data": {
      "text/plain": [
       "['Đồng_thời']"
      ]
     },
     "execution_count": 71,
     "metadata": {},
     "output_type": "execute_result"
    }
   ],
   "source": [
    "tokenizer.tokenize(a[0][1][0])"
   ]
  },
  {
   "cell_type": "code",
   "execution_count": 72,
   "id": "ea07039a",
   "metadata": {},
   "outputs": [],
   "source": [
    "fex=features[12]"
   ]
  },
  {
   "cell_type": "code",
   "execution_count": 73,
   "id": "e18cf6ff",
   "metadata": {},
   "outputs": [
    {
     "data": {
      "text/plain": [
       "dict_keys(['eid', 'tokens', 'token_ids', 'token_masks', 'segment_ids', 'label_ids', 'label_masks', 'attention_masks', 'feats'])"
      ]
     },
     "execution_count": 73,
     "metadata": {},
     "output_type": "execute_result"
    }
   ],
   "source": [
    "fex.__dict__.keys()"
   ]
  },
  {
   "cell_type": "code",
   "execution_count": 74,
   "id": "3e1ae98d",
   "metadata": {},
   "outputs": [
    {
     "data": {
      "text/plain": [
       "['Cả',\n",
       " 'hai',\n",
       " 'đều',\n",
       " 'thuộc',\n",
       " 'diện',\n",
       " 'xét_nghiệm',\n",
       " 'sàng_lọc',\n",
       " ',',\n",
       " 'lấy',\n",
       " 'mẫu',\n",
       " 'bệnh_phẩm',\n",
       " 'ngày',\n",
       " '11/4',\n",
       " ',',\n",
       " 'kết_quả',\n",
       " 'dương_tính',\n",
       " 'ngày',\n",
       " '13/4',\n",
       " ',',\n",
       " 'điều_trị',\n",
       " 'tại',\n",
       " 'Bệnh_viện',\n",
       " 'Bệnh',\n",
       " 'Nhiệt_đới',\n",
       " 'Trung_ương',\n",
       " 'cơ_sở',\n",
       " '2',\n",
       " '.']"
      ]
     },
     "execution_count": 74,
     "metadata": {},
     "output_type": "execute_result"
    }
   ],
   "source": [
    "fex.tokens"
   ]
  },
  {
   "cell_type": "code",
   "execution_count": 75,
   "id": "951b8335",
   "metadata": {},
   "outputs": [
    {
     "data": {
      "text/plain": [
       "[1,\n",
       " 1,\n",
       " 1,\n",
       " 1,\n",
       " 1,\n",
       " 1,\n",
       " 1,\n",
       " 1,\n",
       " 1,\n",
       " 1,\n",
       " 1,\n",
       " 1,\n",
       " 1,\n",
       " 1,\n",
       " 1,\n",
       " 1,\n",
       " 1,\n",
       " 1,\n",
       " 1,\n",
       " 1,\n",
       " 1,\n",
       " 4,\n",
       " 5,\n",
       " 5,\n",
       " 5,\n",
       " 5,\n",
       " 5,\n",
       " 1,\n",
       " 0,\n",
       " 0,\n",
       " 0,\n",
       " 0,\n",
       " 0,\n",
       " 0,\n",
       " 0,\n",
       " 0,\n",
       " 0,\n",
       " 0,\n",
       " 0,\n",
       " 0,\n",
       " 0,\n",
       " 0,\n",
       " 0,\n",
       " 0,\n",
       " 0,\n",
       " 0,\n",
       " 0,\n",
       " 0,\n",
       " 0,\n",
       " 0,\n",
       " 0,\n",
       " 0,\n",
       " 0,\n",
       " 0,\n",
       " 0,\n",
       " 0,\n",
       " 0,\n",
       " 0,\n",
       " 0,\n",
       " 0,\n",
       " 0,\n",
       " 0,\n",
       " 0,\n",
       " 0,\n",
       " 0,\n",
       " 0,\n",
       " 0,\n",
       " 0,\n",
       " 0,\n",
       " 0,\n",
       " 0,\n",
       " 0,\n",
       " 0,\n",
       " 0,\n",
       " 0,\n",
       " 0,\n",
       " 0,\n",
       " 0,\n",
       " 0,\n",
       " 0,\n",
       " 0,\n",
       " 0,\n",
       " 0,\n",
       " 0,\n",
       " 0,\n",
       " 0,\n",
       " 0,\n",
       " 0,\n",
       " 0,\n",
       " 0,\n",
       " 0,\n",
       " 0,\n",
       " 0,\n",
       " 0,\n",
       " 0,\n",
       " 0,\n",
       " 0,\n",
       " 0,\n",
       " 0,\n",
       " 0,\n",
       " 0,\n",
       " 0,\n",
       " 0,\n",
       " 0,\n",
       " 0,\n",
       " 0,\n",
       " 0,\n",
       " 0,\n",
       " 0,\n",
       " 0,\n",
       " 0,\n",
       " 0,\n",
       " 0,\n",
       " 0,\n",
       " 0,\n",
       " 0,\n",
       " 0,\n",
       " 0,\n",
       " 0,\n",
       " 0,\n",
       " 0,\n",
       " 0,\n",
       " 0,\n",
       " 0,\n",
       " 0,\n",
       " 0]"
      ]
     },
     "execution_count": 75,
     "metadata": {},
     "output_type": "execute_result"
    }
   ],
   "source": [
    "fex.label_ids"
   ]
  },
  {
   "cell_type": "code",
   "execution_count": null,
   "id": "99fef8d4",
   "metadata": {},
   "outputs": [],
   "source": []
  }
 ],
 "metadata": {
  "kernelspec": {
   "display_name": "Python 3",
   "language": "python",
   "name": "python3"
  },
  "language_info": {
   "codemirror_mode": {
    "name": "ipython",
    "version": 3
   },
   "file_extension": ".py",
   "mimetype": "text/x-python",
   "name": "python",
   "nbconvert_exporter": "python",
   "pygments_lexer": "ipython3",
   "version": "3.8.10"
  }
 },
 "nbformat": 4,
 "nbformat_minor": 5
}
